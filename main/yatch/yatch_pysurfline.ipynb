{
 "cells": [
  {
   "cell_type": "code",
   "execution_count": 1,
   "metadata": {
    "execution": {
     "iopub.execute_input": "2024-12-25T18:47:45.749679Z",
     "iopub.status.busy": "2024-12-25T18:47:45.748824Z",
     "iopub.status.idle": "2024-12-25T18:47:50.047873Z",
     "shell.execute_reply": "2024-12-25T18:47:50.047873Z"
    }
   },
   "outputs": [],
   "source": [
    "# Importaciones\n",
    "import pysurfline\n",
    "import pandas as pd\n",
    "from datetime import datetime\n",
    "import os\n",
    "\n",
    "# Definir el spotId para el cual quieres obtener las predicciones\n",
    "spotId = \"640a2293b6d769742449fb1b\"\n",
    "\n",
    "# Obtener la previsión de olas para los próximos 2 días con intervalos de 3 horas\n",
    "spotforecasts = pysurfline.get_spot_forecasts(\n",
    "    spotId,\n",
    "    days=1,\n",
    "    intervalHours=3,\n",
    ")\n",
    "\n",
    "# Convertir los resultados a un DataFrame\n",
    "df_pysurfline = spotforecasts.get_dataframe()\n",
    "\n"
   ]
  },
  {
   "cell_type": "code",
   "execution_count": 2,
   "metadata": {
    "execution": {
     "iopub.execute_input": "2024-12-25T18:47:50.056079Z",
     "iopub.status.busy": "2024-12-25T18:47:50.056079Z",
     "iopub.status.idle": "2024-12-25T18:47:50.119755Z",
     "shell.execute_reply": "2024-12-25T18:47:50.119579Z"
    }
   },
   "outputs": [
    {
     "data": {
      "text/html": [
       "<div>\n",
       "<style scoped>\n",
       "    .dataframe tbody tr th:only-of-type {\n",
       "        vertical-align: middle;\n",
       "    }\n",
       "\n",
       "    .dataframe tbody tr th {\n",
       "        vertical-align: top;\n",
       "    }\n",
       "\n",
       "    .dataframe thead th {\n",
       "        text-align: right;\n",
       "    }\n",
       "</style>\n",
       "<table border=\"1\" class=\"dataframe\">\n",
       "  <thead>\n",
       "    <tr style=\"text-align: right;\">\n",
       "      <th></th>\n",
       "      <th>timestamp_dt</th>\n",
       "      <th>timestamp_timestamp</th>\n",
       "      <th>probability</th>\n",
       "      <th>utcOffset</th>\n",
       "      <th>surf_min</th>\n",
       "      <th>surf_max</th>\n",
       "      <th>surf_optimalScore</th>\n",
       "      <th>surf_plus</th>\n",
       "      <th>surf_humanRelation</th>\n",
       "      <th>surf_raw_min</th>\n",
       "      <th>...</th>\n",
       "      <th>swells_5_directionMin</th>\n",
       "      <th>swells_5_optimalScore</th>\n",
       "      <th>speed</th>\n",
       "      <th>direction</th>\n",
       "      <th>directionType</th>\n",
       "      <th>gust</th>\n",
       "      <th>optimalScore</th>\n",
       "      <th>temperature</th>\n",
       "      <th>condition</th>\n",
       "      <th>pressure</th>\n",
       "    </tr>\n",
       "  </thead>\n",
       "  <tbody>\n",
       "    <tr>\n",
       "      <th>1</th>\n",
       "      <td>2024-12-25 06:00:00</td>\n",
       "      <td>1735106400</td>\n",
       "      <td>90.000000</td>\n",
       "      <td>-3</td>\n",
       "      <td>0.6</td>\n",
       "      <td>1.1</td>\n",
       "      <td>2</td>\n",
       "      <td>False</td>\n",
       "      <td>Thigh to stomach</td>\n",
       "      <td>0.79512</td>\n",
       "      <td>...</td>\n",
       "      <td>0</td>\n",
       "      <td>0</td>\n",
       "      <td>27.22951</td>\n",
       "      <td>199.67210</td>\n",
       "      <td>Onshore</td>\n",
       "      <td>33.86131</td>\n",
       "      <td>0</td>\n",
       "      <td>15.01871</td>\n",
       "      <td>NIGHT_DRIZZLE</td>\n",
       "      <td>1016</td>\n",
       "    </tr>\n",
       "    <tr>\n",
       "      <th>3</th>\n",
       "      <td>2024-12-25 12:00:00</td>\n",
       "      <td>1735128000</td>\n",
       "      <td>93.333333</td>\n",
       "      <td>-3</td>\n",
       "      <td>0.9</td>\n",
       "      <td>1.2</td>\n",
       "      <td>2</td>\n",
       "      <td>False</td>\n",
       "      <td>Waist to chest</td>\n",
       "      <td>0.99656</td>\n",
       "      <td>...</td>\n",
       "      <td>0</td>\n",
       "      <td>0</td>\n",
       "      <td>26.63040</td>\n",
       "      <td>181.72223</td>\n",
       "      <td>Onshore</td>\n",
       "      <td>34.22150</td>\n",
       "      <td>0</td>\n",
       "      <td>15.98654</td>\n",
       "      <td>LIGHT_SHOWERS</td>\n",
       "      <td>1017</td>\n",
       "    </tr>\n",
       "    <tr>\n",
       "      <th>5</th>\n",
       "      <td>2024-12-25 18:00:00</td>\n",
       "      <td>1735149600</td>\n",
       "      <td>100.000000</td>\n",
       "      <td>-3</td>\n",
       "      <td>0.9</td>\n",
       "      <td>1.2</td>\n",
       "      <td>2</td>\n",
       "      <td>False</td>\n",
       "      <td>Waist to chest</td>\n",
       "      <td>1.07077</td>\n",
       "      <td>...</td>\n",
       "      <td>0</td>\n",
       "      <td>0</td>\n",
       "      <td>32.70343</td>\n",
       "      <td>169.58370</td>\n",
       "      <td>Onshore</td>\n",
       "      <td>38.16537</td>\n",
       "      <td>0</td>\n",
       "      <td>16.95898</td>\n",
       "      <td>MOSTLY_CLEAR</td>\n",
       "      <td>1017</td>\n",
       "    </tr>\n",
       "  </tbody>\n",
       "</table>\n",
       "<p>3 rows × 62 columns</p>\n",
       "</div>"
      ],
      "text/plain": [
       "         timestamp_dt  timestamp_timestamp  probability  utcOffset  surf_min  \\\n",
       "1 2024-12-25 06:00:00           1735106400    90.000000         -3       0.6   \n",
       "3 2024-12-25 12:00:00           1735128000    93.333333         -3       0.9   \n",
       "5 2024-12-25 18:00:00           1735149600   100.000000         -3       0.9   \n",
       "\n",
       "   surf_max  surf_optimalScore  surf_plus surf_humanRelation  surf_raw_min  \\\n",
       "1       1.1                  2      False   Thigh to stomach       0.79512   \n",
       "3       1.2                  2      False     Waist to chest       0.99656   \n",
       "5       1.2                  2      False     Waist to chest       1.07077   \n",
       "\n",
       "   ...  swells_5_directionMin  swells_5_optimalScore     speed  direction  \\\n",
       "1  ...                      0                      0  27.22951  199.67210   \n",
       "3  ...                      0                      0  26.63040  181.72223   \n",
       "5  ...                      0                      0  32.70343  169.58370   \n",
       "\n",
       "   directionType      gust  optimalScore  temperature      condition  pressure  \n",
       "1        Onshore  33.86131             0     15.01871  NIGHT_DRIZZLE      1016  \n",
       "3        Onshore  34.22150             0     15.98654  LIGHT_SHOWERS      1017  \n",
       "5        Onshore  38.16537             0     16.95898   MOSTLY_CLEAR      1017  \n",
       "\n",
       "[3 rows x 62 columns]"
      ]
     },
     "execution_count": 2,
     "metadata": {},
     "output_type": "execute_result"
    }
   ],
   "source": [
    "\n",
    "# Filtrar las horas 6 am, 12 pm (Noon) y 6 pm\n",
    "df_pysurfline = df_pysurfline[df_pysurfline['timestamp_dt'].dt.strftime('%H:%M').isin(['06:00', '12:00', '18:00'])]\n",
    "\n",
    "# Ver las primeras filas del DataFrame\n",
    "df_pysurfline.head()\n"
   ]
  },
  {
   "cell_type": "code",
   "execution_count": 3,
   "metadata": {
    "execution": {
     "iopub.execute_input": "2024-12-25T18:47:50.160794Z",
     "iopub.status.busy": "2024-12-25T18:47:50.152595Z",
     "iopub.status.idle": "2024-12-25T18:47:50.186679Z",
     "shell.execute_reply": "2024-12-25T18:47:50.186679Z"
    }
   },
   "outputs": [
    {
     "data": {
      "text/plain": [
       "'Yacht'"
      ]
     },
     "execution_count": 3,
     "metadata": {},
     "output_type": "execute_result"
    }
   ],
   "source": [
    "spotforecasts.name"
   ]
  },
  {
   "cell_type": "code",
   "execution_count": 4,
   "metadata": {
    "execution": {
     "iopub.execute_input": "2024-12-25T18:47:50.186679Z",
     "iopub.status.busy": "2024-12-25T18:47:50.186679Z",
     "iopub.status.idle": "2024-12-25T18:47:50.718195Z",
     "shell.execute_reply": "2024-12-25T18:47:50.718195Z"
    }
   },
   "outputs": [
    {
     "name": "stdout",
     "output_type": "stream",
     "text": [
      "El DataFrame se ha guardado correctamente en 'C:\\Users\\dalarroy\\surf-prediction-project\\data\\yatch_pysurfline.xlsx'\n"
     ]
    }
   ],
   "source": [
    "\n",
    "# Definir la ruta de la carpeta 'data'\n",
    "folder_path = \"C:\\\\Users\\\\dalarroy\\\\surf-prediction-project\\\\data\"\n",
    "\n",
    "# Definir la ruta completa al archivo Excel\n",
    "file_path = os.path.join(folder_path, \"yatch_pysurfline.xlsx\")\n",
    "\n",
    "# Crear la carpeta si no existe\n",
    "if not os.path.exists(folder_path):\n",
    "    os.makedirs(folder_path)\n",
    "\n",
    "# Verificar si el archivo ya existe\n",
    "if os.path.exists(file_path):\n",
    "    # Leer el archivo Excel existente\n",
    "    existing_df = pd.read_excel(file_path, engine='openpyxl')\n",
    "    \n",
    "    # Concatenar el DataFrame existente con el nuevo DataFrame (df_pysurfline)\n",
    "    df_combined = pd.concat([existing_df, df_pysurfline], ignore_index=True)\n",
    "else:\n",
    "    # Si el archivo no existe, usar solo el nuevo DataFrame\n",
    "    df_combined = df_pysurfline\n",
    "\n",
    "# Guardar el DataFrame combinado (nuevo + existente) en el archivo Excel\n",
    "df_combined.to_excel(file_path, index=False, engine='openpyxl')\n",
    "\n",
    "print(f\"El DataFrame se ha guardado correctamente en '{file_path}'\")"
   ]
  }
 ],
 "metadata": {
  "kernelspec": {
   "display_name": "surf-prediction-project-FAp9yEkR-py3.10",
   "language": "python",
   "name": "python3"
  },
  "language_info": {
   "codemirror_mode": {
    "name": "ipython",
    "version": 3
   },
   "file_extension": ".py",
   "mimetype": "text/x-python",
   "name": "python",
   "nbconvert_exporter": "python",
   "pygments_lexer": "ipython3",
   "version": "3.10.0"
  }
 },
 "nbformat": 4,
 "nbformat_minor": 2
}
