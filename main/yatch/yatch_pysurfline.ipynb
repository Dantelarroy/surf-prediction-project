{
 "cells": [
  {
   "cell_type": "code",
   "execution_count": 1,
   "metadata": {
    "execution": {
     "iopub.execute_input": "2024-12-20T18:52:18.724340Z",
     "iopub.status.busy": "2024-12-20T18:52:18.722335Z",
     "iopub.status.idle": "2024-12-20T18:52:25.622872Z",
     "shell.execute_reply": "2024-12-20T18:52:25.618955Z"
    }
   },
   "outputs": [],
   "source": [
    "# Importaciones\n",
    "import pysurfline\n",
    "import pandas as pd\n",
    "from datetime import datetime\n",
    "import os\n",
    "\n",
    "# Definir el spotId para el cual quieres obtener las predicciones\n",
    "spotId = \"640a2293b6d769742449fb1b\"\n",
    "\n",
    "# Obtener la previsión de olas para los próximos 2 días con intervalos de 3 horas\n",
    "spotforecasts = pysurfline.get_spot_forecasts(\n",
    "    spotId,\n",
    "    days=1,\n",
    "    intervalHours=3,\n",
    ")\n",
    "\n",
    "# Convertir los resultados a un DataFrame\n",
    "df_pysurfline = spotforecasts.get_dataframe()\n",
    "\n"
   ]
  },
  {
   "cell_type": "code",
   "execution_count": 2,
   "metadata": {
    "execution": {
     "iopub.execute_input": "2024-12-20T18:52:25.635852Z",
     "iopub.status.busy": "2024-12-20T18:52:25.632854Z",
     "iopub.status.idle": "2024-12-20T18:52:25.715812Z",
     "shell.execute_reply": "2024-12-20T18:52:25.712744Z"
    }
   },
   "outputs": [
    {
     "data": {
      "text/html": [
       "<div>\n",
       "<style scoped>\n",
       "    .dataframe tbody tr th:only-of-type {\n",
       "        vertical-align: middle;\n",
       "    }\n",
       "\n",
       "    .dataframe tbody tr th {\n",
       "        vertical-align: top;\n",
       "    }\n",
       "\n",
       "    .dataframe thead th {\n",
       "        text-align: right;\n",
       "    }\n",
       "</style>\n",
       "<table border=\"1\" class=\"dataframe\">\n",
       "  <thead>\n",
       "    <tr style=\"text-align: right;\">\n",
       "      <th></th>\n",
       "      <th>timestamp_dt</th>\n",
       "      <th>timestamp_timestamp</th>\n",
       "      <th>probability</th>\n",
       "      <th>utcOffset</th>\n",
       "      <th>surf_min</th>\n",
       "      <th>surf_max</th>\n",
       "      <th>surf_optimalScore</th>\n",
       "      <th>surf_plus</th>\n",
       "      <th>surf_humanRelation</th>\n",
       "      <th>surf_raw_min</th>\n",
       "      <th>...</th>\n",
       "      <th>swells_5_directionMin</th>\n",
       "      <th>swells_5_optimalScore</th>\n",
       "      <th>speed</th>\n",
       "      <th>direction</th>\n",
       "      <th>directionType</th>\n",
       "      <th>gust</th>\n",
       "      <th>optimalScore</th>\n",
       "      <th>temperature</th>\n",
       "      <th>condition</th>\n",
       "      <th>pressure</th>\n",
       "    </tr>\n",
       "  </thead>\n",
       "  <tbody>\n",
       "    <tr>\n",
       "      <th>1</th>\n",
       "      <td>2024-12-20 06:00:00</td>\n",
       "      <td>1734674400</td>\n",
       "      <td>93.333333</td>\n",
       "      <td>-3</td>\n",
       "      <td>0.3</td>\n",
       "      <td>0.6</td>\n",
       "      <td>0</td>\n",
       "      <td>False</td>\n",
       "      <td>Knee to thigh</td>\n",
       "      <td>0.40286</td>\n",
       "      <td>...</td>\n",
       "      <td>83.690</td>\n",
       "      <td>0</td>\n",
       "      <td>20.45071</td>\n",
       "      <td>313.60217</td>\n",
       "      <td>Offshore</td>\n",
       "      <td>46.08000</td>\n",
       "      <td>2</td>\n",
       "      <td>18.82531</td>\n",
       "      <td>NIGHT_CLEAR</td>\n",
       "      <td>1000</td>\n",
       "    </tr>\n",
       "    <tr>\n",
       "      <th>3</th>\n",
       "      <td>2024-12-20 12:00:00</td>\n",
       "      <td>1734696000</td>\n",
       "      <td>61.222222</td>\n",
       "      <td>-3</td>\n",
       "      <td>0.3</td>\n",
       "      <td>0.6</td>\n",
       "      <td>0</td>\n",
       "      <td>False</td>\n",
       "      <td>Knee to thigh</td>\n",
       "      <td>0.42407</td>\n",
       "      <td>...</td>\n",
       "      <td>215.365</td>\n",
       "      <td>0</td>\n",
       "      <td>39.24721</td>\n",
       "      <td>232.19271</td>\n",
       "      <td>Cross-shore</td>\n",
       "      <td>56.52597</td>\n",
       "      <td>0</td>\n",
       "      <td>22.00008</td>\n",
       "      <td>CLEAR</td>\n",
       "      <td>1003</td>\n",
       "    </tr>\n",
       "    <tr>\n",
       "      <th>5</th>\n",
       "      <td>2024-12-20 18:00:00</td>\n",
       "      <td>1734717600</td>\n",
       "      <td>100.000000</td>\n",
       "      <td>-3</td>\n",
       "      <td>1.2</td>\n",
       "      <td>1.5</td>\n",
       "      <td>2</td>\n",
       "      <td>False</td>\n",
       "      <td>Chest to head</td>\n",
       "      <td>1.29340</td>\n",
       "      <td>...</td>\n",
       "      <td>205.045</td>\n",
       "      <td>0</td>\n",
       "      <td>48.55427</td>\n",
       "      <td>218.58013</td>\n",
       "      <td>Cross-shore</td>\n",
       "      <td>60.50667</td>\n",
       "      <td>0</td>\n",
       "      <td>18.55066</td>\n",
       "      <td>CLEAR</td>\n",
       "      <td>1009</td>\n",
       "    </tr>\n",
       "  </tbody>\n",
       "</table>\n",
       "<p>3 rows × 62 columns</p>\n",
       "</div>"
      ],
      "text/plain": [
       "         timestamp_dt  timestamp_timestamp  probability  utcOffset  surf_min  \\\n",
       "1 2024-12-20 06:00:00           1734674400    93.333333         -3       0.3   \n",
       "3 2024-12-20 12:00:00           1734696000    61.222222         -3       0.3   \n",
       "5 2024-12-20 18:00:00           1734717600   100.000000         -3       1.2   \n",
       "\n",
       "   surf_max  surf_optimalScore  surf_plus surf_humanRelation  surf_raw_min  \\\n",
       "1       0.6                  0      False      Knee to thigh       0.40286   \n",
       "3       0.6                  0      False      Knee to thigh       0.42407   \n",
       "5       1.5                  2      False      Chest to head       1.29340   \n",
       "\n",
       "   ...  swells_5_directionMin  swells_5_optimalScore     speed  direction  \\\n",
       "1  ...                 83.690                      0  20.45071  313.60217   \n",
       "3  ...                215.365                      0  39.24721  232.19271   \n",
       "5  ...                205.045                      0  48.55427  218.58013   \n",
       "\n",
       "   directionType      gust  optimalScore  temperature    condition  pressure  \n",
       "1       Offshore  46.08000             2     18.82531  NIGHT_CLEAR      1000  \n",
       "3    Cross-shore  56.52597             0     22.00008        CLEAR      1003  \n",
       "5    Cross-shore  60.50667             0     18.55066        CLEAR      1009  \n",
       "\n",
       "[3 rows x 62 columns]"
      ]
     },
     "execution_count": 2,
     "metadata": {},
     "output_type": "execute_result"
    }
   ],
   "source": [
    "\n",
    "# Filtrar las horas 6 am, 12 pm (Noon) y 6 pm\n",
    "df_pysurfline = df_pysurfline[df_pysurfline['timestamp_dt'].dt.strftime('%H:%M').isin(['06:00', '12:00', '18:00'])]\n",
    "\n",
    "# Ver las primeras filas del DataFrame\n",
    "df_pysurfline.head()\n"
   ]
  },
  {
   "cell_type": "code",
   "execution_count": 3,
   "metadata": {
    "execution": {
     "iopub.execute_input": "2024-12-20T18:52:25.847635Z",
     "iopub.status.busy": "2024-12-20T18:52:25.846635Z",
     "iopub.status.idle": "2024-12-20T18:52:25.871504Z",
     "shell.execute_reply": "2024-12-20T18:52:25.867975Z"
    }
   },
   "outputs": [
    {
     "data": {
      "text/plain": [
       "'Yacht'"
      ]
     },
     "execution_count": 3,
     "metadata": {},
     "output_type": "execute_result"
    }
   ],
   "source": [
    "spotforecasts.name"
   ]
  },
  {
   "cell_type": "code",
   "execution_count": 4,
   "metadata": {
    "execution": {
     "iopub.execute_input": "2024-12-20T18:52:25.884527Z",
     "iopub.status.busy": "2024-12-20T18:52:25.882536Z",
     "iopub.status.idle": "2024-12-20T18:52:27.153601Z",
     "shell.execute_reply": "2024-12-20T18:52:27.150396Z"
    }
   },
   "outputs": [
    {
     "name": "stdout",
     "output_type": "stream",
     "text": [
      "El DataFrame se ha guardado correctamente en 'C:\\Users\\dalarroy\\surf-prediction-project\\data\\yatch_pysurfline.xlsx'\n"
     ]
    }
   ],
   "source": [
    "\n",
    "# Definir la ruta de la carpeta 'data'\n",
    "folder_path = \"C:\\\\Users\\\\dalarroy\\\\surf-prediction-project\\\\data\"\n",
    "\n",
    "# Definir la ruta completa al archivo Excel\n",
    "file_path = os.path.join(folder_path, \"yatch_pysurfline.xlsx\")\n",
    "\n",
    "# Crear la carpeta si no existe\n",
    "if not os.path.exists(folder_path):\n",
    "    os.makedirs(folder_path)\n",
    "\n",
    "# Verificar si el archivo ya existe\n",
    "if os.path.exists(file_path):\n",
    "    # Leer el archivo Excel existente\n",
    "    existing_df = pd.read_excel(file_path, engine='openpyxl')\n",
    "    \n",
    "    # Concatenar el DataFrame existente con el nuevo DataFrame (df_pysurfline)\n",
    "    df_combined = pd.concat([existing_df, df_pysurfline], ignore_index=True)\n",
    "else:\n",
    "    # Si el archivo no existe, usar solo el nuevo DataFrame\n",
    "    df_combined = df_pysurfline\n",
    "\n",
    "# Guardar el DataFrame combinado (nuevo + existente) en el archivo Excel\n",
    "df_combined.to_excel(file_path, index=False, engine='openpyxl')\n",
    "\n",
    "print(f\"El DataFrame se ha guardado correctamente en '{file_path}'\")"
   ]
  }
 ],
 "metadata": {
  "kernelspec": {
   "display_name": "surf-prediction-project-FAp9yEkR-py3.10",
   "language": "python",
   "name": "python3"
  },
  "language_info": {
   "codemirror_mode": {
    "name": "ipython",
    "version": 3
   },
   "file_extension": ".py",
   "mimetype": "text/x-python",
   "name": "python",
   "nbconvert_exporter": "python",
   "pygments_lexer": "ipython3",
   "version": "3.10.0"
  }
 },
 "nbformat": 4,
 "nbformat_minor": 2
}
