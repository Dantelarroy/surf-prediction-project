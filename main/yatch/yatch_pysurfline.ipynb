{
 "cells": [
  {
   "cell_type": "code",
   "execution_count": 1,
   "metadata": {
    "execution": {
     "iopub.execute_input": "2024-12-21T22:32:51.529235Z",
     "iopub.status.busy": "2024-12-21T22:32:51.529235Z",
     "iopub.status.idle": "2024-12-21T22:32:56.759368Z",
     "shell.execute_reply": "2024-12-21T22:32:56.759368Z"
    }
   },
   "outputs": [],
   "source": [
    "# Importaciones\n",
    "import pysurfline\n",
    "import pandas as pd\n",
    "from datetime import datetime\n",
    "import os\n",
    "\n",
    "# Definir el spotId para el cual quieres obtener las predicciones\n",
    "spotId = \"640a2293b6d769742449fb1b\"\n",
    "\n",
    "# Obtener la previsión de olas para los próximos 2 días con intervalos de 3 horas\n",
    "spotforecasts = pysurfline.get_spot_forecasts(\n",
    "    spotId,\n",
    "    days=1,\n",
    "    intervalHours=3,\n",
    ")\n",
    "\n",
    "# Convertir los resultados a un DataFrame\n",
    "df_pysurfline = spotforecasts.get_dataframe()\n",
    "\n"
   ]
  },
  {
   "cell_type": "code",
   "execution_count": 2,
   "metadata": {
    "execution": {
     "iopub.execute_input": "2024-12-21T22:32:56.759368Z",
     "iopub.status.busy": "2024-12-21T22:32:56.759368Z",
     "iopub.status.idle": "2024-12-21T22:32:56.791283Z",
     "shell.execute_reply": "2024-12-21T22:32:56.790552Z"
    }
   },
   "outputs": [
    {
     "data": {
      "text/html": [
       "<div>\n",
       "<style scoped>\n",
       "    .dataframe tbody tr th:only-of-type {\n",
       "        vertical-align: middle;\n",
       "    }\n",
       "\n",
       "    .dataframe tbody tr th {\n",
       "        vertical-align: top;\n",
       "    }\n",
       "\n",
       "    .dataframe thead th {\n",
       "        text-align: right;\n",
       "    }\n",
       "</style>\n",
       "<table border=\"1\" class=\"dataframe\">\n",
       "  <thead>\n",
       "    <tr style=\"text-align: right;\">\n",
       "      <th></th>\n",
       "      <th>timestamp_dt</th>\n",
       "      <th>timestamp_timestamp</th>\n",
       "      <th>probability</th>\n",
       "      <th>utcOffset</th>\n",
       "      <th>surf_min</th>\n",
       "      <th>surf_max</th>\n",
       "      <th>surf_optimalScore</th>\n",
       "      <th>surf_plus</th>\n",
       "      <th>surf_humanRelation</th>\n",
       "      <th>surf_raw_min</th>\n",
       "      <th>...</th>\n",
       "      <th>swells_5_directionMin</th>\n",
       "      <th>swells_5_optimalScore</th>\n",
       "      <th>speed</th>\n",
       "      <th>direction</th>\n",
       "      <th>directionType</th>\n",
       "      <th>gust</th>\n",
       "      <th>optimalScore</th>\n",
       "      <th>temperature</th>\n",
       "      <th>condition</th>\n",
       "      <th>pressure</th>\n",
       "    </tr>\n",
       "  </thead>\n",
       "  <tbody>\n",
       "    <tr>\n",
       "      <th>1</th>\n",
       "      <td>2024-12-21 06:00:00</td>\n",
       "      <td>1734760800</td>\n",
       "      <td>100</td>\n",
       "      <td>-3</td>\n",
       "      <td>1.2</td>\n",
       "      <td>1.5</td>\n",
       "      <td>2</td>\n",
       "      <td>False</td>\n",
       "      <td>Chest to head</td>\n",
       "      <td>1.24039</td>\n",
       "      <td>...</td>\n",
       "      <td>0</td>\n",
       "      <td>0</td>\n",
       "      <td>15.92999</td>\n",
       "      <td>241.53791</td>\n",
       "      <td>Cross-shore</td>\n",
       "      <td>22.3218</td>\n",
       "      <td>0</td>\n",
       "      <td>11.22609</td>\n",
       "      <td>NIGHT_CLEAR</td>\n",
       "      <td>1015</td>\n",
       "    </tr>\n",
       "    <tr>\n",
       "      <th>3</th>\n",
       "      <td>2024-12-21 12:00:00</td>\n",
       "      <td>1734782400</td>\n",
       "      <td>100</td>\n",
       "      <td>-3</td>\n",
       "      <td>0.9</td>\n",
       "      <td>1.2</td>\n",
       "      <td>2</td>\n",
       "      <td>False</td>\n",
       "      <td>Waist to chest</td>\n",
       "      <td>0.96475</td>\n",
       "      <td>...</td>\n",
       "      <td>0</td>\n",
       "      <td>0</td>\n",
       "      <td>16.21052</td>\n",
       "      <td>204.91081</td>\n",
       "      <td>Cross-shore</td>\n",
       "      <td>21.9600</td>\n",
       "      <td>0</td>\n",
       "      <td>15.40479</td>\n",
       "      <td>CLEAR</td>\n",
       "      <td>1018</td>\n",
       "    </tr>\n",
       "    <tr>\n",
       "      <th>5</th>\n",
       "      <td>2024-12-21 18:00:00</td>\n",
       "      <td>1734804000</td>\n",
       "      <td>100</td>\n",
       "      <td>-3</td>\n",
       "      <td>0.6</td>\n",
       "      <td>1.1</td>\n",
       "      <td>2</td>\n",
       "      <td>False</td>\n",
       "      <td>Thigh to stomach</td>\n",
       "      <td>0.78452</td>\n",
       "      <td>...</td>\n",
       "      <td>0</td>\n",
       "      <td>0</td>\n",
       "      <td>20.11620</td>\n",
       "      <td>102.94275</td>\n",
       "      <td>Onshore</td>\n",
       "      <td>20.1162</td>\n",
       "      <td>0</td>\n",
       "      <td>16.06471</td>\n",
       "      <td>CLEAR</td>\n",
       "      <td>1018</td>\n",
       "    </tr>\n",
       "  </tbody>\n",
       "</table>\n",
       "<p>3 rows × 62 columns</p>\n",
       "</div>"
      ],
      "text/plain": [
       "         timestamp_dt  timestamp_timestamp  probability  utcOffset  surf_min  \\\n",
       "1 2024-12-21 06:00:00           1734760800          100         -3       1.2   \n",
       "3 2024-12-21 12:00:00           1734782400          100         -3       0.9   \n",
       "5 2024-12-21 18:00:00           1734804000          100         -3       0.6   \n",
       "\n",
       "   surf_max  surf_optimalScore  surf_plus surf_humanRelation  surf_raw_min  \\\n",
       "1       1.5                  2      False      Chest to head       1.24039   \n",
       "3       1.2                  2      False     Waist to chest       0.96475   \n",
       "5       1.1                  2      False   Thigh to stomach       0.78452   \n",
       "\n",
       "   ...  swells_5_directionMin  swells_5_optimalScore     speed  direction  \\\n",
       "1  ...                      0                      0  15.92999  241.53791   \n",
       "3  ...                      0                      0  16.21052  204.91081   \n",
       "5  ...                      0                      0  20.11620  102.94275   \n",
       "\n",
       "   directionType     gust  optimalScore  temperature    condition  pressure  \n",
       "1    Cross-shore  22.3218             0     11.22609  NIGHT_CLEAR      1015  \n",
       "3    Cross-shore  21.9600             0     15.40479        CLEAR      1018  \n",
       "5        Onshore  20.1162             0     16.06471        CLEAR      1018  \n",
       "\n",
       "[3 rows x 62 columns]"
      ]
     },
     "execution_count": 2,
     "metadata": {},
     "output_type": "execute_result"
    }
   ],
   "source": [
    "\n",
    "# Filtrar las horas 6 am, 12 pm (Noon) y 6 pm\n",
    "df_pysurfline = df_pysurfline[df_pysurfline['timestamp_dt'].dt.strftime('%H:%M').isin(['06:00', '12:00', '18:00'])]\n",
    "\n",
    "# Ver las primeras filas del DataFrame\n",
    "df_pysurfline.head()\n"
   ]
  },
  {
   "cell_type": "code",
   "execution_count": 3,
   "metadata": {
    "execution": {
     "iopub.execute_input": "2024-12-21T22:32:56.806933Z",
     "iopub.status.busy": "2024-12-21T22:32:56.806933Z",
     "iopub.status.idle": "2024-12-21T22:32:56.822695Z",
     "shell.execute_reply": "2024-12-21T22:32:56.822695Z"
    }
   },
   "outputs": [
    {
     "data": {
      "text/plain": [
       "'Yacht'"
      ]
     },
     "execution_count": 3,
     "metadata": {},
     "output_type": "execute_result"
    }
   ],
   "source": [
    "spotforecasts.name"
   ]
  },
  {
   "cell_type": "code",
   "execution_count": 4,
   "metadata": {
    "execution": {
     "iopub.execute_input": "2024-12-21T22:32:56.822695Z",
     "iopub.status.busy": "2024-12-21T22:32:56.822695Z",
     "iopub.status.idle": "2024-12-21T22:32:57.108782Z",
     "shell.execute_reply": "2024-12-21T22:32:57.107556Z"
    }
   },
   "outputs": [
    {
     "name": "stdout",
     "output_type": "stream",
     "text": [
      "El DataFrame se ha guardado correctamente en 'C:\\Users\\dalarroy\\surf-prediction-project\\data\\yatch_pysurfline.xlsx'\n"
     ]
    }
   ],
   "source": [
    "\n",
    "# Definir la ruta de la carpeta 'data'\n",
    "folder_path = \"C:\\\\Users\\\\dalarroy\\\\surf-prediction-project\\\\data\"\n",
    "\n",
    "# Definir la ruta completa al archivo Excel\n",
    "file_path = os.path.join(folder_path, \"yatch_pysurfline.xlsx\")\n",
    "\n",
    "# Crear la carpeta si no existe\n",
    "if not os.path.exists(folder_path):\n",
    "    os.makedirs(folder_path)\n",
    "\n",
    "# Verificar si el archivo ya existe\n",
    "if os.path.exists(file_path):\n",
    "    # Leer el archivo Excel existente\n",
    "    existing_df = pd.read_excel(file_path, engine='openpyxl')\n",
    "    \n",
    "    # Concatenar el DataFrame existente con el nuevo DataFrame (df_pysurfline)\n",
    "    df_combined = pd.concat([existing_df, df_pysurfline], ignore_index=True)\n",
    "else:\n",
    "    # Si el archivo no existe, usar solo el nuevo DataFrame\n",
    "    df_combined = df_pysurfline\n",
    "\n",
    "# Guardar el DataFrame combinado (nuevo + existente) en el archivo Excel\n",
    "df_combined.to_excel(file_path, index=False, engine='openpyxl')\n",
    "\n",
    "print(f\"El DataFrame se ha guardado correctamente en '{file_path}'\")"
   ]
  }
 ],
 "metadata": {
  "kernelspec": {
   "display_name": "surf-prediction-project-FAp9yEkR-py3.10",
   "language": "python",
   "name": "python3"
  },
  "language_info": {
   "codemirror_mode": {
    "name": "ipython",
    "version": 3
   },
   "file_extension": ".py",
   "mimetype": "text/x-python",
   "name": "python",
   "nbconvert_exporter": "python",
   "pygments_lexer": "ipython3",
   "version": "3.10.0"
  }
 },
 "nbformat": 4,
 "nbformat_minor": 2
}
