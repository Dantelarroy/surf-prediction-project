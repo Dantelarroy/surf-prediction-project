{
 "cells": [
  {
   "cell_type": "code",
   "execution_count": 1,
   "metadata": {
    "execution": {
     "iopub.execute_input": "2024-12-17T20:56:24.637485Z",
     "iopub.status.busy": "2024-12-17T20:56:24.636376Z",
     "iopub.status.idle": "2024-12-17T20:56:27.897258Z",
     "shell.execute_reply": "2024-12-17T20:56:27.895255Z"
    }
   },
   "outputs": [],
   "source": [
    "# Importaciones\n",
    "import pysurfline\n",
    "import pandas as pd\n",
    "from datetime import datetime\n",
    "import os\n",
    "\n",
    "# Definir el spotId para el cual quieres obtener las predicciones\n",
    "spotId = \"5842041f4e65fad6a7708ce3\"\n",
    "\n",
    "# Obtener la previsión de olas para los próximos 2 días con intervalos de 3 horas\n",
    "spotforecasts = pysurfline.get_spot_forecasts(\n",
    "    spotId,\n",
    "    days=1,\n",
    "    intervalHours=3,\n",
    ")\n",
    "\n",
    "# Convertir los resultados a un DataFrame\n",
    "df_pysurfline = spotforecasts.get_dataframe()\n",
    "\n"
   ]
  },
  {
   "cell_type": "code",
   "execution_count": 2,
   "metadata": {
    "execution": {
     "iopub.execute_input": "2024-12-17T20:56:27.904296Z",
     "iopub.status.busy": "2024-12-17T20:56:27.903339Z",
     "iopub.status.idle": "2024-12-17T20:56:27.928465Z",
     "shell.execute_reply": "2024-12-17T20:56:27.926443Z"
    }
   },
   "outputs": [
    {
     "data": {
      "text/plain": [
       "'Playa Grande'"
      ]
     },
     "execution_count": 2,
     "metadata": {},
     "output_type": "execute_result"
    }
   ],
   "source": [
    "spotforecasts.name"
   ]
  },
  {
   "cell_type": "code",
   "execution_count": 3,
   "metadata": {
    "execution": {
     "iopub.execute_input": "2024-12-17T20:56:27.948909Z",
     "iopub.status.busy": "2024-12-17T20:56:27.948026Z",
     "iopub.status.idle": "2024-12-17T20:56:27.974435Z",
     "shell.execute_reply": "2024-12-17T20:56:27.973467Z"
    }
   },
   "outputs": [
    {
     "data": {
      "text/html": [
       "<div>\n",
       "<style scoped>\n",
       "    .dataframe tbody tr th:only-of-type {\n",
       "        vertical-align: middle;\n",
       "    }\n",
       "\n",
       "    .dataframe tbody tr th {\n",
       "        vertical-align: top;\n",
       "    }\n",
       "\n",
       "    .dataframe thead th {\n",
       "        text-align: right;\n",
       "    }\n",
       "</style>\n",
       "<table border=\"1\" class=\"dataframe\">\n",
       "  <thead>\n",
       "    <tr style=\"text-align: right;\">\n",
       "      <th></th>\n",
       "      <th>timestamp_dt</th>\n",
       "      <th>timestamp_timestamp</th>\n",
       "      <th>probability</th>\n",
       "      <th>utcOffset</th>\n",
       "      <th>surf_min</th>\n",
       "      <th>surf_max</th>\n",
       "      <th>surf_optimalScore</th>\n",
       "      <th>surf_plus</th>\n",
       "      <th>surf_humanRelation</th>\n",
       "      <th>surf_raw_min</th>\n",
       "      <th>...</th>\n",
       "      <th>swells_5_directionMin</th>\n",
       "      <th>swells_5_optimalScore</th>\n",
       "      <th>speed</th>\n",
       "      <th>direction</th>\n",
       "      <th>directionType</th>\n",
       "      <th>gust</th>\n",
       "      <th>optimalScore</th>\n",
       "      <th>temperature</th>\n",
       "      <th>condition</th>\n",
       "      <th>pressure</th>\n",
       "    </tr>\n",
       "  </thead>\n",
       "  <tbody>\n",
       "    <tr>\n",
       "      <th>1</th>\n",
       "      <td>2024-12-17 06:00:00</td>\n",
       "      <td>1734415200</td>\n",
       "      <td>100</td>\n",
       "      <td>-3</td>\n",
       "      <td>1.2</td>\n",
       "      <td>1.8</td>\n",
       "      <td>2</td>\n",
       "      <td>False</td>\n",
       "      <td>Chest to overhead</td>\n",
       "      <td>1.64</td>\n",
       "      <td>...</td>\n",
       "      <td>0</td>\n",
       "      <td>0</td>\n",
       "      <td>10.58046</td>\n",
       "      <td>83.09162</td>\n",
       "      <td>Onshore</td>\n",
       "      <td>12.96481</td>\n",
       "      <td>0</td>\n",
       "      <td>13.99223</td>\n",
       "      <td>NIGHT_CLEAR</td>\n",
       "      <td>1019</td>\n",
       "    </tr>\n",
       "    <tr>\n",
       "      <th>3</th>\n",
       "      <td>2024-12-17 12:00:00</td>\n",
       "      <td>1734436800</td>\n",
       "      <td>100</td>\n",
       "      <td>-3</td>\n",
       "      <td>1.2</td>\n",
       "      <td>1.8</td>\n",
       "      <td>2</td>\n",
       "      <td>False</td>\n",
       "      <td>Chest to overhead</td>\n",
       "      <td>1.61</td>\n",
       "      <td>...</td>\n",
       "      <td>0</td>\n",
       "      <td>0</td>\n",
       "      <td>13.54277</td>\n",
       "      <td>42.33615</td>\n",
       "      <td>Onshore</td>\n",
       "      <td>14.79282</td>\n",
       "      <td>0</td>\n",
       "      <td>16.42063</td>\n",
       "      <td>CLEAR</td>\n",
       "      <td>1021</td>\n",
       "    </tr>\n",
       "    <tr>\n",
       "      <th>5</th>\n",
       "      <td>2024-12-17 18:00:00</td>\n",
       "      <td>1734458400</td>\n",
       "      <td>100</td>\n",
       "      <td>-3</td>\n",
       "      <td>1.2</td>\n",
       "      <td>1.5</td>\n",
       "      <td>2</td>\n",
       "      <td>False</td>\n",
       "      <td>Chest to head</td>\n",
       "      <td>1.25</td>\n",
       "      <td>...</td>\n",
       "      <td>0</td>\n",
       "      <td>0</td>\n",
       "      <td>28.28528</td>\n",
       "      <td>66.09333</td>\n",
       "      <td>Onshore</td>\n",
       "      <td>31.09620</td>\n",
       "      <td>0</td>\n",
       "      <td>17.85068</td>\n",
       "      <td>CLEAR</td>\n",
       "      <td>1018</td>\n",
       "    </tr>\n",
       "  </tbody>\n",
       "</table>\n",
       "<p>3 rows × 62 columns</p>\n",
       "</div>"
      ],
      "text/plain": [
       "         timestamp_dt  timestamp_timestamp  probability  utcOffset  surf_min  \\\n",
       "1 2024-12-17 06:00:00           1734415200          100         -3       1.2   \n",
       "3 2024-12-17 12:00:00           1734436800          100         -3       1.2   \n",
       "5 2024-12-17 18:00:00           1734458400          100         -3       1.2   \n",
       "\n",
       "   surf_max  surf_optimalScore  surf_plus surf_humanRelation  surf_raw_min  \\\n",
       "1       1.8                  2      False  Chest to overhead          1.64   \n",
       "3       1.8                  2      False  Chest to overhead          1.61   \n",
       "5       1.5                  2      False      Chest to head          1.25   \n",
       "\n",
       "   ...  swells_5_directionMin  swells_5_optimalScore     speed  direction  \\\n",
       "1  ...                      0                      0  10.58046   83.09162   \n",
       "3  ...                      0                      0  13.54277   42.33615   \n",
       "5  ...                      0                      0  28.28528   66.09333   \n",
       "\n",
       "   directionType      gust  optimalScore  temperature    condition  pressure  \n",
       "1        Onshore  12.96481             0     13.99223  NIGHT_CLEAR      1019  \n",
       "3        Onshore  14.79282             0     16.42063        CLEAR      1021  \n",
       "5        Onshore  31.09620             0     17.85068        CLEAR      1018  \n",
       "\n",
       "[3 rows x 62 columns]"
      ]
     },
     "execution_count": 3,
     "metadata": {},
     "output_type": "execute_result"
    }
   ],
   "source": [
    "\n",
    "# Filtrar las horas 6 am, 12 pm (Noon) y 6 pm\n",
    "df_pysurfline = df_pysurfline[df_pysurfline['timestamp_dt'].dt.strftime('%H:%M').isin(['06:00', '12:00', '18:00'])]\n",
    "\n",
    "# Ver las primeras filas del DataFrame\n",
    "df_pysurfline.head()\n"
   ]
  },
  {
   "cell_type": "code",
   "execution_count": 4,
   "metadata": {
    "execution": {
     "iopub.execute_input": "2024-12-17T20:56:27.978368Z",
     "iopub.status.busy": "2024-12-17T20:56:27.978368Z",
     "iopub.status.idle": "2024-12-17T20:56:28.268879Z",
     "shell.execute_reply": "2024-12-17T20:56:28.267864Z"
    }
   },
   "outputs": [
    {
     "name": "stdout",
     "output_type": "stream",
     "text": [
      "El DataFrame se ha guardado correctamente en 'C:\\Users\\dalarroy\\surf-prediction-project\\data\\pg_pysurfline.xlsx'\n"
     ]
    }
   ],
   "source": [
    "\n",
    "# Definir la ruta de la carpeta 'data'\n",
    "folder_path = \"C:\\\\Users\\\\dalarroy\\\\surf-prediction-project\\\\data\"\n",
    "\n",
    "# Definir la ruta completa al archivo Excel\n",
    "file_path = os.path.join(folder_path, \"pg_pysurfline.xlsx\")\n",
    "\n",
    "# Crear la carpeta si no existe\n",
    "if not os.path.exists(folder_path):\n",
    "    os.makedirs(folder_path)\n",
    "\n",
    "# Verificar si el archivo ya existe\n",
    "if os.path.exists(file_path):\n",
    "    # Leer el archivo Excel existente\n",
    "    existing_df = pd.read_excel(file_path, engine='openpyxl')\n",
    "    \n",
    "    # Concatenar el DataFrame existente con el nuevo DataFrame (df_pysurfline)\n",
    "    df_combined = pd.concat([existing_df, df_pysurfline], ignore_index=True)\n",
    "else:\n",
    "    # Si el archivo no existe, usar solo el nuevo DataFrame\n",
    "    df_combined = df_pysurfline\n",
    "\n",
    "# Guardar el DataFrame combinado (nuevo + existente) en el archivo Excel\n",
    "df_combined.to_excel(file_path, index=False, engine='openpyxl')\n",
    "\n",
    "print(f\"El DataFrame se ha guardado correctamente en '{file_path}'\")"
   ]
  },
  {
   "cell_type": "code",
   "execution_count": null,
   "metadata": {},
   "outputs": [],
   "source": []
  }
 ],
 "metadata": {
  "kernelspec": {
   "display_name": "surf-prediction-project-FAp9yEkR-py3.10",
   "language": "python",
   "name": "python3"
  },
  "language_info": {
   "codemirror_mode": {
    "name": "ipython",
    "version": 3
   },
   "file_extension": ".py",
   "mimetype": "text/x-python",
   "name": "python",
   "nbconvert_exporter": "python",
   "pygments_lexer": "ipython3",
   "version": "3.10.0"
  }
 },
 "nbformat": 4,
 "nbformat_minor": 2
}
