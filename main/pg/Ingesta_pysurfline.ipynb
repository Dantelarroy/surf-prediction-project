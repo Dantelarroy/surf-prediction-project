{
 "cells": [
  {
   "cell_type": "code",
   "execution_count": 1,
   "metadata": {
    "execution": {
     "iopub.execute_input": "2024-12-15T02:46:27.708393Z",
     "iopub.status.busy": "2024-12-15T02:46:27.708393Z",
     "iopub.status.idle": "2024-12-15T02:50:45.624514Z",
     "shell.execute_reply": "2024-12-15T02:50:45.624514Z"
    }
   },
   "outputs": [],
   "source": [
    "# Importaciones\n",
    "import pysurfline\n",
    "import pandas as pd\n",
    "from datetime import datetime\n",
    "import os\n",
    "\n",
    "# Definir el spotId para el cual quieres obtener las predicciones\n",
    "spotId = \"5842041f4e65fad6a7708ce3\"\n",
    "\n",
    "# Obtener la previsión de olas para los próximos 2 días con intervalos de 3 horas\n",
    "spotforecasts = pysurfline.get_spot_forecasts(\n",
    "    spotId,\n",
    "    days=1,\n",
    "    intervalHours=3,\n",
    ")\n",
    "\n",
    "# Convertir los resultados a un DataFrame\n",
    "df_pysurfline = spotforecasts.get_dataframe()\n",
    "\n"
   ]
  },
  {
   "cell_type": "code",
   "execution_count": 2,
   "metadata": {
    "execution": {
     "iopub.execute_input": "2024-12-15T02:50:45.624514Z",
     "iopub.status.busy": "2024-12-15T02:50:45.624514Z",
     "iopub.status.idle": "2024-12-15T02:50:45.640254Z",
     "shell.execute_reply": "2024-12-15T02:50:45.640254Z"
    }
   },
   "outputs": [
    {
     "data": {
      "text/plain": [
       "'Playa Grande'"
      ]
     },
     "execution_count": 2,
     "metadata": {},
     "output_type": "execute_result"
    }
   ],
   "source": [
    "spotforecasts.name"
   ]
  },
  {
   "cell_type": "code",
   "execution_count": 3,
   "metadata": {
    "execution": {
     "iopub.execute_input": "2024-12-15T02:50:45.655876Z",
     "iopub.status.busy": "2024-12-15T02:50:45.655876Z",
     "iopub.status.idle": "2024-12-15T02:50:45.687190Z",
     "shell.execute_reply": "2024-12-15T02:50:45.687190Z"
    }
   },
   "outputs": [
    {
     "data": {
      "text/html": [
       "<div>\n",
       "<style scoped>\n",
       "    .dataframe tbody tr th:only-of-type {\n",
       "        vertical-align: middle;\n",
       "    }\n",
       "\n",
       "    .dataframe tbody tr th {\n",
       "        vertical-align: top;\n",
       "    }\n",
       "\n",
       "    .dataframe thead th {\n",
       "        text-align: right;\n",
       "    }\n",
       "</style>\n",
       "<table border=\"1\" class=\"dataframe\">\n",
       "  <thead>\n",
       "    <tr style=\"text-align: right;\">\n",
       "      <th></th>\n",
       "      <th>timestamp_dt</th>\n",
       "      <th>timestamp_timestamp</th>\n",
       "      <th>probability</th>\n",
       "      <th>utcOffset</th>\n",
       "      <th>surf_min</th>\n",
       "      <th>surf_max</th>\n",
       "      <th>surf_optimalScore</th>\n",
       "      <th>surf_plus</th>\n",
       "      <th>surf_humanRelation</th>\n",
       "      <th>surf_raw_min</th>\n",
       "      <th>...</th>\n",
       "      <th>swells_5_directionMin</th>\n",
       "      <th>swells_5_optimalScore</th>\n",
       "      <th>speed</th>\n",
       "      <th>direction</th>\n",
       "      <th>directionType</th>\n",
       "      <th>gust</th>\n",
       "      <th>optimalScore</th>\n",
       "      <th>temperature</th>\n",
       "      <th>condition</th>\n",
       "      <th>pressure</th>\n",
       "    </tr>\n",
       "  </thead>\n",
       "  <tbody>\n",
       "    <tr>\n",
       "      <th>1</th>\n",
       "      <td>2024-12-14 06:00:00</td>\n",
       "      <td>1734156000</td>\n",
       "      <td>96.666667</td>\n",
       "      <td>-3</td>\n",
       "      <td>0.6</td>\n",
       "      <td>1.1</td>\n",
       "      <td>2</td>\n",
       "      <td>False</td>\n",
       "      <td>Thigh to stomach</td>\n",
       "      <td>0.81</td>\n",
       "      <td>...</td>\n",
       "      <td>0</td>\n",
       "      <td>0</td>\n",
       "      <td>10.63380</td>\n",
       "      <td>147.45937</td>\n",
       "      <td>Onshore</td>\n",
       "      <td>15.13669</td>\n",
       "      <td>0</td>\n",
       "      <td>16.44912</td>\n",
       "      <td>NIGHT_CLEAR</td>\n",
       "      <td>1011</td>\n",
       "    </tr>\n",
       "    <tr>\n",
       "      <th>3</th>\n",
       "      <td>2024-12-14 12:00:00</td>\n",
       "      <td>1734177600</td>\n",
       "      <td>100.000000</td>\n",
       "      <td>-3</td>\n",
       "      <td>0.6</td>\n",
       "      <td>1.1</td>\n",
       "      <td>2</td>\n",
       "      <td>False</td>\n",
       "      <td>Thigh to stomach</td>\n",
       "      <td>0.76</td>\n",
       "      <td>...</td>\n",
       "      <td>0</td>\n",
       "      <td>0</td>\n",
       "      <td>20.50770</td>\n",
       "      <td>174.11901</td>\n",
       "      <td>Cross-shore</td>\n",
       "      <td>24.21584</td>\n",
       "      <td>0</td>\n",
       "      <td>16.91076</td>\n",
       "      <td>CLOUDY</td>\n",
       "      <td>1013</td>\n",
       "    </tr>\n",
       "    <tr>\n",
       "      <th>5</th>\n",
       "      <td>2024-12-14 18:00:00</td>\n",
       "      <td>1734199200</td>\n",
       "      <td>100.000000</td>\n",
       "      <td>-3</td>\n",
       "      <td>0.9</td>\n",
       "      <td>1.2</td>\n",
       "      <td>2</td>\n",
       "      <td>False</td>\n",
       "      <td>Waist to chest</td>\n",
       "      <td>0.96</td>\n",
       "      <td>...</td>\n",
       "      <td>0</td>\n",
       "      <td>0</td>\n",
       "      <td>24.48044</td>\n",
       "      <td>160.59190</td>\n",
       "      <td>Onshore</td>\n",
       "      <td>28.80000</td>\n",
       "      <td>0</td>\n",
       "      <td>18.13441</td>\n",
       "      <td>CLEAR</td>\n",
       "      <td>1014</td>\n",
       "    </tr>\n",
       "  </tbody>\n",
       "</table>\n",
       "<p>3 rows × 62 columns</p>\n",
       "</div>"
      ],
      "text/plain": [
       "         timestamp_dt  timestamp_timestamp  probability  utcOffset  surf_min  \\\n",
       "1 2024-12-14 06:00:00           1734156000    96.666667         -3       0.6   \n",
       "3 2024-12-14 12:00:00           1734177600   100.000000         -3       0.6   \n",
       "5 2024-12-14 18:00:00           1734199200   100.000000         -3       0.9   \n",
       "\n",
       "   surf_max  surf_optimalScore  surf_plus surf_humanRelation  surf_raw_min  \\\n",
       "1       1.1                  2      False   Thigh to stomach          0.81   \n",
       "3       1.1                  2      False   Thigh to stomach          0.76   \n",
       "5       1.2                  2      False     Waist to chest          0.96   \n",
       "\n",
       "   ...  swells_5_directionMin  swells_5_optimalScore     speed  direction  \\\n",
       "1  ...                      0                      0  10.63380  147.45937   \n",
       "3  ...                      0                      0  20.50770  174.11901   \n",
       "5  ...                      0                      0  24.48044  160.59190   \n",
       "\n",
       "   directionType      gust  optimalScore  temperature    condition  pressure  \n",
       "1        Onshore  15.13669             0     16.44912  NIGHT_CLEAR      1011  \n",
       "3    Cross-shore  24.21584             0     16.91076       CLOUDY      1013  \n",
       "5        Onshore  28.80000             0     18.13441        CLEAR      1014  \n",
       "\n",
       "[3 rows x 62 columns]"
      ]
     },
     "execution_count": 3,
     "metadata": {},
     "output_type": "execute_result"
    }
   ],
   "source": [
    "\n",
    "# Filtrar las horas 6 am, 12 pm (Noon) y 6 pm\n",
    "df_pysurfline = df_pysurfline[df_pysurfline['timestamp_dt'].dt.strftime('%H:%M').isin(['06:00', '12:00', '18:00'])]\n",
    "\n",
    "# Ver las primeras filas del DataFrame\n",
    "df_pysurfline.head()\n"
   ]
  },
  {
   "cell_type": "code",
   "execution_count": 4,
   "metadata": {
    "execution": {
     "iopub.execute_input": "2024-12-15T02:50:45.687190Z",
     "iopub.status.busy": "2024-12-15T02:50:45.687190Z",
     "iopub.status.idle": "2024-12-15T02:50:45.948493Z",
     "shell.execute_reply": "2024-12-15T02:50:45.948493Z"
    }
   },
   "outputs": [
    {
     "name": "stdout",
     "output_type": "stream",
     "text": [
      "El DataFrame se ha guardado correctamente en 'C:\\Users\\dalarroy\\surf-prediction-project\\data\\pg_pysurfline.xlsx'\n"
     ]
    }
   ],
   "source": [
    "\n",
    "# Definir la ruta de la carpeta 'data'\n",
    "folder_path = \"C:\\\\Users\\\\dalarroy\\\\surf-prediction-project\\\\data\"\n",
    "\n",
    "# Definir la ruta completa al archivo Excel\n",
    "file_path = os.path.join(folder_path, \"pg_pysurfline.xlsx\")\n",
    "\n",
    "# Crear la carpeta si no existe\n",
    "if not os.path.exists(folder_path):\n",
    "    os.makedirs(folder_path)\n",
    "\n",
    "# Verificar si el archivo ya existe\n",
    "if os.path.exists(file_path):\n",
    "    # Leer el archivo Excel existente\n",
    "    existing_df = pd.read_excel(file_path, engine='openpyxl')\n",
    "    \n",
    "    # Concatenar el DataFrame existente con el nuevo DataFrame (df_pysurfline)\n",
    "    df_combined = pd.concat([existing_df, df_pysurfline], ignore_index=True)\n",
    "else:\n",
    "    # Si el archivo no existe, usar solo el nuevo DataFrame\n",
    "    df_combined = df_pysurfline\n",
    "\n",
    "# Guardar el DataFrame combinado (nuevo + existente) en el archivo Excel\n",
    "df_combined.to_excel(file_path, index=False, engine='openpyxl')\n",
    "\n",
    "print(f\"El DataFrame se ha guardado correctamente en '{file_path}'\")"
   ]
  },
  {
   "cell_type": "code",
   "execution_count": null,
   "metadata": {},
   "outputs": [],
   "source": []
  }
 ],
 "metadata": {
  "kernelspec": {
   "display_name": "surf-prediction-project-FAp9yEkR-py3.10",
   "language": "python",
   "name": "python3"
  },
  "language_info": {
   "codemirror_mode": {
    "name": "ipython",
    "version": 3
   },
   "file_extension": ".py",
   "mimetype": "text/x-python",
   "name": "python",
   "nbconvert_exporter": "python",
   "pygments_lexer": "ipython3",
   "version": "3.10.0"
  }
 },
 "nbformat": 4,
 "nbformat_minor": 2
}
