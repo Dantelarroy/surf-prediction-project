{
 "cells": [
  {
   "cell_type": "markdown",
   "metadata": {},
   "source": [
    "# Web Scrapping Surfline.com"
   ]
  },
  {
   "cell_type": "markdown",
   "metadata": {},
   "source": [
    "## Importaciones"
   ]
  },
  {
   "cell_type": "code",
   "execution_count": 1,
   "metadata": {
    "execution": {
     "iopub.execute_input": "2024-12-13T23:59:39.127054Z",
     "iopub.status.busy": "2024-12-13T23:59:39.127054Z",
     "iopub.status.idle": "2024-12-13T23:59:39.958902Z",
     "shell.execute_reply": "2024-12-13T23:59:39.956796Z"
    }
   },
   "outputs": [],
   "source": [
    "from datetime import datetime\n",
    "import time\n",
    "from bs4 import BeautifulSoup\n",
    "import os\n",
    "from selenium import webdriver\n",
    "import pandas as pd\n",
    "\n"
   ]
  },
  {
   "cell_type": "markdown",
   "metadata": {},
   "source": [
    "## Analisis inicial"
   ]
  },
  {
   "cell_type": "code",
   "execution_count": 2,
   "metadata": {
    "execution": {
     "iopub.execute_input": "2024-12-13T23:59:39.958902Z",
     "iopub.status.busy": "2024-12-13T23:59:39.958902Z",
     "iopub.status.idle": "2024-12-13T23:59:39.977738Z",
     "shell.execute_reply": "2024-12-13T23:59:39.977188Z"
    }
   },
   "outputs": [
    {
     "data": {
      "text/plain": [
       "'\\n# Configurar Selenium con el controlador del navegador\\ndriver = webdriver.Chrome()  # Asegúrate de que el controlador esté instalado y en tu PATH\\nurl = \"https://www.surfline.com/surf-report/playa-grande/5842041f4e65fad6a7708ce3?view=table\"\\ndriver.get(url)\\n\\n# Esperar a que la página cargue completamente\\ntime.sleep(5)  # Ajusta el tiempo según la velocidad del sitio\\n\\n# Obtener el HTML generado\\nhtml = driver.page_source\\n\\n# Analizar con BeautifulSoup\\nsoup = BeautifulSoup(html, \\'html.parser\\')\\n\\n# Extraer tablas\\ntables = soup.find_all(\\'table\\')\\nfor i, table in enumerate(tables):\\n    print(f\"\\nTabla {i + 1}:\")\\n    rows = table.find_all(\\'tr\\')\\n    for j, row in enumerate(rows):\\n        print(f\"  - Fila {j + 1}:\")\\n        cells = row.find_all(\\'td\\')\\n        for k, cell in enumerate(cells):\\n            print(f\"    - Celda {k + 1}: {cell.get_text(strip=True)}\")\\n\\n# Cerrar el navegador\\ndriver.quit()'"
      ]
     },
     "execution_count": 2,
     "metadata": {},
     "output_type": "execute_result"
    }
   ],
   "source": [
    "'''\n",
    "# Configurar Selenium con el controlador del navegador\n",
    "driver = webdriver.Chrome()  # Asegúrate de que el controlador esté instalado y en tu PATH\n",
    "url = \"https://www.surfline.com/surf-report/playa-grande/5842041f4e65fad6a7708ce3?view=table\"\n",
    "driver.get(url)\n",
    "\n",
    "# Esperar a que la página cargue completamente\n",
    "time.sleep(5)  # Ajusta el tiempo según la velocidad del sitio\n",
    "\n",
    "# Obtener el HTML generado\n",
    "html = driver.page_source\n",
    "\n",
    "# Analizar con BeautifulSoup\n",
    "soup = BeautifulSoup(html, 'html.parser')\n",
    "\n",
    "# Extraer tablas\n",
    "tables = soup.find_all('table')\n",
    "for i, table in enumerate(tables):\n",
    "    print(f\"\\nTabla {i + 1}:\")\n",
    "    rows = table.find_all('tr')\n",
    "    for j, row in enumerate(rows):\n",
    "        print(f\"  - Fila {j + 1}:\")\n",
    "        cells = row.find_all('td')\n",
    "        for k, cell in enumerate(cells):\n",
    "            print(f\"    - Celda {k + 1}: {cell.get_text(strip=True)}\")\n",
    "\n",
    "# Cerrar el navegador\n",
    "driver.quit()'''\n"
   ]
  },
  {
   "cell_type": "markdown",
   "metadata": {},
   "source": [
    "Llego a la conclusión de que hay 16 tablas finalmente, por lo cual voy a comentar el código para no volver a realizarlo\n",
    "Debajo realizo una mejora en el código para seleccionar únicamente las tablas requeridas."
   ]
  },
  {
   "cell_type": "code",
   "execution_count": 3,
   "metadata": {
    "execution": {
     "iopub.execute_input": "2024-12-13T23:59:40.009834Z",
     "iopub.status.busy": "2024-12-13T23:59:40.009834Z",
     "iopub.status.idle": "2024-12-14T00:01:06.676943Z",
     "shell.execute_reply": "2024-12-14T00:01:06.675095Z"
    }
   },
   "outputs": [],
   "source": [
    "# Configurar Selenium con el controlador del navegador\n",
    "driver = webdriver.Chrome()  # Asegúrate de tener el controlador instalado y configurado\n",
    "url = \"https://www.surfline.com/surf-report/playa-grande/5842041f4e65fad6a7708ce3?view=table\"\n",
    "driver.get(url)\n",
    "\n",
    "# Esperar a que la página cargue completamente\n",
    "time.sleep(5)  # Ajusta el tiempo según la velocidad del sitio\n",
    "\n",
    "# Obtener el HTML generado\n",
    "html = driver.page_source\n",
    "\n",
    "# Analizar con BeautifulSoup\n",
    "soup = BeautifulSoup(html, 'html.parser')\n",
    "\n",
    "# Extraer tablas relevantes (Tabla 2, Tabla 3, Tabla 4)\n",
    "tables = soup.find_all('table')\n",
    "\n",
    "# Procesar tabla 2 (Horas del día)\n",
    "table_2 = tables[1]\n",
    "rows_table_2 = table_2.find_all('tr')\n",
    "times = [row.find_all('td')[0].get_text(strip=True) for row in rows_table_2]\n",
    "\n",
    "# Procesar tabla 3 (Información de olas y viento)\n",
    "table_3 = tables[2]\n",
    "rows_table_3 = table_3.find_all('tr')\n",
    "data_table_3 = []\n",
    "for row in rows_table_3:\n",
    "    cells = row.find_all('td')\n",
    "    data_row = [cell.get_text(strip=True) for cell in cells]\n",
    "    \n",
    "    # Corregir formato para las columnas de Swell y Wind\n",
    "    for idx in [2, 3, 4]:  # Índices de Primary Swell, Secondary Swell 1, Secondary Swell 2\n",
    "        if idx < len(data_row):\n",
    "            data_row[idx] = data_row[idx].replace(\"m\", \"m \").replace(\"s\", \"s\")\n",
    "    data_row[5] = data_row[5].replace(\"kph\", \" kph\")  # Corregir formato del viento\n",
    "    \n",
    "    data_table_3.append(data_row)\n",
    "\n",
    "# Procesar tabla 4 (Información meteorológica)\n",
    "table_4 = tables[3]\n",
    "rows_table_4 = table_4.find_all('tr')\n",
    "data_table_4 = []\n",
    "for row in rows_table_4:\n",
    "    cells = row.find_all('td')\n",
    "    data_table_4.append([cell.get_text(strip=True) for cell in cells])\n"
   ]
  },
  {
   "cell_type": "code",
   "execution_count": 4,
   "metadata": {
    "execution": {
     "iopub.execute_input": "2024-12-14T00:01:06.682245Z",
     "iopub.status.busy": "2024-12-14T00:01:06.681748Z",
     "iopub.status.idle": "2024-12-14T00:01:06.715035Z",
     "shell.execute_reply": "2024-12-14T00:01:06.713292Z"
    }
   },
   "outputs": [
    {
     "name": "stdout",
     "output_type": "stream",
     "text": [
      "['6am', 'Noon', '6pm']\n",
      "**************************************************\n",
      "[['0.9-1.2', 'FAIR', '2m 7s', '0.3m 8s', '0.1m 14s', '55 kph'], ['0.9-1.2', 'POOR TO FAIR', '1.8m 7s', '0.2m 7s', '0.1m 13s', '1722 kph'], ['0.6-1.1', 'POOR TO FAIR', '1.6m 8s', '0.2m 7s', '', '1415 kph']]\n",
      "**************************************************\n",
      "[['17ºc', '1010mb', '100%'], ['17ºc', '1011mb', '100%'], ['18ºc', '1010mb', '100%']]\n"
     ]
    }
   ],
   "source": [
    "print(f'{times}\\n{\"*\"*50}\\n{data_table_3}\\n{\"*\"*50}\\n{data_table_4}')"
   ]
  },
  {
   "cell_type": "code",
   "execution_count": 5,
   "metadata": {
    "execution": {
     "iopub.execute_input": "2024-12-14T00:01:06.723830Z",
     "iopub.status.busy": "2024-12-14T00:01:06.723333Z",
     "iopub.status.idle": "2024-12-14T00:01:06.750666Z",
     "shell.execute_reply": "2024-12-14T00:01:06.748769Z"
    }
   },
   "outputs": [],
   "source": [
    "\n",
    "# Definir la fecha de hoy\n",
    "today_date = datetime.today().strftime('%Y-%m-%d')\n",
    "\n",
    "# Asegúrate de que todas las listas tengan la misma longitud (tomando la longitud mínima)\n",
    "min_length = min(len(times), len(data_table_3), len(data_table_4))\n",
    "\n",
    "# Recortar las listas\n",
    "times = times[:min_length]\n",
    "data_table_3 = data_table_3[:min_length]\n",
    "data_table_4 = data_table_4[:min_length]\n",
    "\n",
    "# Combinar los datos en un DataFrame\n",
    "combined_data = []\n",
    "for i in range(min_length):\n",
    "    combined_data.append({\n",
    "        \"Date\": today_date,  # Agregar columna de fecha\n",
    "        \"Time\": times[i],\n",
    "        \"Surf(m)\": data_table_3[i][0],  # Primera columna de la tabla 3\n",
    "        \"Rating\": data_table_3[i][1],  # Segunda columna de la tabla 3\n",
    "        \"Primary Swell\": data_table_3[i][2],  # Tercera columna de la tabla 3\n",
    "        \"Secondary Swell\": f\"{data_table_3[i][3]} | {data_table_3[i][4]}\",  # Combina Swell 2 y Swell 3\n",
    "        \"Wind\": data_table_3[i][5],  # Sexta columna de la tabla 3\n",
    "        \"Temperature\": data_table_4[i][0],  # Primera columna de la tabla 4\n",
    "        \"Pressure\": data_table_4[i][1],  # Segunda columna de la tabla 4\n",
    "        \"Probability\": data_table_4[i][2],  # Tercera columna de la tabla 4\n",
    "    })\n",
    "\n",
    "df_scrap = pd.DataFrame(combined_data)"
   ]
  },
  {
   "cell_type": "code",
   "execution_count": 6,
   "metadata": {
    "execution": {
     "iopub.execute_input": "2024-12-14T00:01:06.755429Z",
     "iopub.status.busy": "2024-12-14T00:01:06.755429Z",
     "iopub.status.idle": "2024-12-14T00:01:06.804152Z",
     "shell.execute_reply": "2024-12-14T00:01:06.801572Z"
    }
   },
   "outputs": [
    {
     "data": {
      "text/html": [
       "<div>\n",
       "<style scoped>\n",
       "    .dataframe tbody tr th:only-of-type {\n",
       "        vertical-align: middle;\n",
       "    }\n",
       "\n",
       "    .dataframe tbody tr th {\n",
       "        vertical-align: top;\n",
       "    }\n",
       "\n",
       "    .dataframe thead th {\n",
       "        text-align: right;\n",
       "    }\n",
       "</style>\n",
       "<table border=\"1\" class=\"dataframe\">\n",
       "  <thead>\n",
       "    <tr style=\"text-align: right;\">\n",
       "      <th></th>\n",
       "      <th>Date</th>\n",
       "      <th>Time</th>\n",
       "      <th>Surf(m)</th>\n",
       "      <th>Rating</th>\n",
       "      <th>Primary Swell</th>\n",
       "      <th>Secondary Swell</th>\n",
       "      <th>Wind</th>\n",
       "      <th>Temperature</th>\n",
       "      <th>Pressure</th>\n",
       "      <th>Probability</th>\n",
       "    </tr>\n",
       "  </thead>\n",
       "  <tbody>\n",
       "    <tr>\n",
       "      <th>0</th>\n",
       "      <td>2024-12-13</td>\n",
       "      <td>6am</td>\n",
       "      <td>0.9-1.2</td>\n",
       "      <td>FAIR</td>\n",
       "      <td>2m 7s</td>\n",
       "      <td>0.3m 8s | 0.1m 14s</td>\n",
       "      <td>55 kph</td>\n",
       "      <td>17ºc</td>\n",
       "      <td>1010mb</td>\n",
       "      <td>100%</td>\n",
       "    </tr>\n",
       "    <tr>\n",
       "      <th>1</th>\n",
       "      <td>2024-12-13</td>\n",
       "      <td>Noon</td>\n",
       "      <td>0.9-1.2</td>\n",
       "      <td>POOR TO FAIR</td>\n",
       "      <td>1.8m 7s</td>\n",
       "      <td>0.2m 7s | 0.1m 13s</td>\n",
       "      <td>1722 kph</td>\n",
       "      <td>17ºc</td>\n",
       "      <td>1011mb</td>\n",
       "      <td>100%</td>\n",
       "    </tr>\n",
       "    <tr>\n",
       "      <th>2</th>\n",
       "      <td>2024-12-13</td>\n",
       "      <td>6pm</td>\n",
       "      <td>0.6-1.1</td>\n",
       "      <td>POOR TO FAIR</td>\n",
       "      <td>1.6m 8s</td>\n",
       "      <td>0.2m 7s |</td>\n",
       "      <td>1415 kph</td>\n",
       "      <td>18ºc</td>\n",
       "      <td>1010mb</td>\n",
       "      <td>100%</td>\n",
       "    </tr>\n",
       "  </tbody>\n",
       "</table>\n",
       "</div>"
      ],
      "text/plain": [
       "         Date  Time  Surf(m)        Rating Primary Swell     Secondary Swell  \\\n",
       "0  2024-12-13   6am  0.9-1.2          FAIR         2m 7s  0.3m 8s | 0.1m 14s   \n",
       "1  2024-12-13  Noon  0.9-1.2  POOR TO FAIR       1.8m 7s  0.2m 7s | 0.1m 13s   \n",
       "2  2024-12-13   6pm  0.6-1.1  POOR TO FAIR       1.6m 8s          0.2m 7s |    \n",
       "\n",
       "       Wind Temperature Pressure Probability  \n",
       "0    55 kph        17ºc   1010mb        100%  \n",
       "1  1722 kph        17ºc   1011mb        100%  \n",
       "2  1415 kph        18ºc   1010mb        100%  "
      ]
     },
     "execution_count": 6,
     "metadata": {},
     "output_type": "execute_result"
    }
   ],
   "source": [
    "df_scrap"
   ]
  },
  {
   "cell_type": "markdown",
   "metadata": {},
   "source": [
    "Ordeno finalmente el df según los datos que necesito y de la manera que los necesito"
   ]
  },
  {
   "cell_type": "code",
   "execution_count": 7,
   "metadata": {
    "execution": {
     "iopub.execute_input": "2024-12-14T00:01:06.809484Z",
     "iopub.status.busy": "2024-12-14T00:01:06.809484Z",
     "iopub.status.idle": "2024-12-14T00:01:06.839564Z",
     "shell.execute_reply": "2024-12-14T00:01:06.836657Z"
    }
   },
   "outputs": [
    {
     "data": {
      "text/html": [
       "<div>\n",
       "<style scoped>\n",
       "    .dataframe tbody tr th:only-of-type {\n",
       "        vertical-align: middle;\n",
       "    }\n",
       "\n",
       "    .dataframe tbody tr th {\n",
       "        vertical-align: top;\n",
       "    }\n",
       "\n",
       "    .dataframe thead th {\n",
       "        text-align: right;\n",
       "    }\n",
       "</style>\n",
       "<table border=\"1\" class=\"dataframe\">\n",
       "  <thead>\n",
       "    <tr style=\"text-align: right;\">\n",
       "      <th></th>\n",
       "      <th>Date</th>\n",
       "      <th>Time</th>\n",
       "      <th>Surf(m)</th>\n",
       "      <th>Rating</th>\n",
       "      <th>Primary Swell</th>\n",
       "      <th>Secondary Swell</th>\n",
       "      <th>Wind</th>\n",
       "      <th>Temperature</th>\n",
       "      <th>Pressure</th>\n",
       "      <th>Probability</th>\n",
       "    </tr>\n",
       "  </thead>\n",
       "  <tbody>\n",
       "    <tr>\n",
       "      <th>0</th>\n",
       "      <td>2024-12-13</td>\n",
       "      <td>6am</td>\n",
       "      <td>0.9-1.2</td>\n",
       "      <td>FAIR</td>\n",
       "      <td>2m 7s</td>\n",
       "      <td>0.3m 8s | 0.1m 14s</td>\n",
       "      <td>55 kph</td>\n",
       "      <td>17ºc</td>\n",
       "      <td>1010mb</td>\n",
       "      <td>100%</td>\n",
       "    </tr>\n",
       "    <tr>\n",
       "      <th>1</th>\n",
       "      <td>2024-12-13</td>\n",
       "      <td>Noon</td>\n",
       "      <td>0.9-1.2</td>\n",
       "      <td>POOR TO FAIR</td>\n",
       "      <td>1.8m 7s</td>\n",
       "      <td>0.2m 7s | 0.1m 13s</td>\n",
       "      <td>1722 kph</td>\n",
       "      <td>17ºc</td>\n",
       "      <td>1011mb</td>\n",
       "      <td>100%</td>\n",
       "    </tr>\n",
       "    <tr>\n",
       "      <th>2</th>\n",
       "      <td>2024-12-13</td>\n",
       "      <td>6pm</td>\n",
       "      <td>0.6-1.1</td>\n",
       "      <td>POOR TO FAIR</td>\n",
       "      <td>1.6m 8s</td>\n",
       "      <td>0.2m 7s |</td>\n",
       "      <td>1415 kph</td>\n",
       "      <td>18ºc</td>\n",
       "      <td>1010mb</td>\n",
       "      <td>100%</td>\n",
       "    </tr>\n",
       "  </tbody>\n",
       "</table>\n",
       "</div>"
      ],
      "text/plain": [
       "         Date  Time  Surf(m)        Rating Primary Swell     Secondary Swell  \\\n",
       "0  2024-12-13   6am  0.9-1.2          FAIR         2m 7s  0.3m 8s | 0.1m 14s   \n",
       "1  2024-12-13  Noon  0.9-1.2  POOR TO FAIR       1.8m 7s  0.2m 7s | 0.1m 13s   \n",
       "2  2024-12-13   6pm  0.6-1.1  POOR TO FAIR       1.6m 8s          0.2m 7s |    \n",
       "\n",
       "       Wind Temperature Pressure Probability  \n",
       "0    55 kph        17ºc   1010mb        100%  \n",
       "1  1722 kph        17ºc   1011mb        100%  \n",
       "2  1415 kph        18ºc   1010mb        100%  "
      ]
     },
     "execution_count": 7,
     "metadata": {},
     "output_type": "execute_result"
    }
   ],
   "source": [
    "df_scrap"
   ]
  },
  {
   "cell_type": "code",
   "execution_count": 8,
   "metadata": {
    "execution": {
     "iopub.execute_input": "2024-12-14T00:01:06.847199Z",
     "iopub.status.busy": "2024-12-14T00:01:06.847199Z",
     "iopub.status.idle": "2024-12-14T00:01:07.791067Z",
     "shell.execute_reply": "2024-12-14T00:01:07.790503Z"
    }
   },
   "outputs": [
    {
     "name": "stdout",
     "output_type": "stream",
     "text": [
      "El DataFrame se ha guardado correctamente en 'C:\\Users\\dalarroy\\surf-prediction-project\\data\\pg_scrap_surfline.xlsx'\n"
     ]
    }
   ],
   "source": [
    "# Definir la ruta completa al archivo Excel\n",
    "file_path = \"C:\\\\Users\\\\dalarroy\\\\surf-prediction-project\\\\data\\\\pg_scrap_surfline.xlsx\"\n",
    "\n",
    "# Leer el archivo Excel si existe\n",
    "if os.path.exists(file_path):\n",
    "    # Cargar los datos existentes\n",
    "    existing_df = pd.read_excel(file_path, engine='openpyxl')\n",
    "    \n",
    "    # Eliminar las filas duplicadas basándose en las columnas \"Date\" y \"Time\"\n",
    "    df_scrap = pd.concat([existing_df, df_scrap]).drop_duplicates(subset=[\"Date\", \"Time\"], keep=\"last\").reset_index(drop=True)\n",
    "else:\n",
    "    # Si el archivo no existe, solo usa los datos nuevos\n",
    "    df_scrap = df_scrap.reset_index(drop=True)\n",
    "\n",
    "# Guardar el DataFrame actualizado en el archivo Excel\n",
    "df_scrap.to_excel(file_path, index=False, engine='openpyxl')\n",
    "\n",
    "print(f\"El DataFrame se ha guardado correctamente en '{file_path}'\")\n",
    "\n"
   ]
  },
  {
   "cell_type": "code",
   "execution_count": null,
   "metadata": {},
   "outputs": [],
   "source": []
  }
 ],
 "metadata": {
  "kernelspec": {
   "display_name": "surf-prediction-project-FAp9yEkR-py3.10",
   "language": "python",
   "name": "python3"
  },
  "language_info": {
   "codemirror_mode": {
    "name": "ipython",
    "version": 3
   },
   "file_extension": ".py",
   "mimetype": "text/x-python",
   "name": "python",
   "nbconvert_exporter": "python",
   "pygments_lexer": "ipython3",
   "version": "3.10.0"
  }
 },
 "nbformat": 4,
 "nbformat_minor": 2
}
