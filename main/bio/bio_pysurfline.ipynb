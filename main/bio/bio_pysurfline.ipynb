{
 "cells": [
  {
   "cell_type": "code",
   "execution_count": 1,
   "metadata": {
    "execution": {
     "iopub.execute_input": "2024-12-06T21:12:24.286549Z",
     "iopub.status.busy": "2024-12-06T21:12:24.286549Z",
     "iopub.status.idle": "2024-12-06T21:12:30.361553Z",
     "shell.execute_reply": "2024-12-06T21:12:30.361553Z"
    }
   },
   "outputs": [],
   "source": [
    "# Importaciones\n",
    "import pysurfline\n",
    "import pandas as pd\n",
    "from datetime import datetime\n",
    "import os\n",
    "\n",
    "# Definir el spotId para el cual quieres obtener las predicciones\n",
    "spotId = \"640a22924eb375a9598d21e7\"\n",
    "\n",
    "# Obtener la previsión de olas para los próximos 2 días con intervalos de 3 horas\n",
    "spotforecasts = pysurfline.get_spot_forecasts(\n",
    "    spotId,\n",
    "    days=1,\n",
    "    intervalHours=3,\n",
    ")\n",
    "\n",
    "# Convertir los resultados a un DataFrame\n",
    "df_pysurfline = spotforecasts.get_dataframe()\n",
    "\n"
   ]
  },
  {
   "cell_type": "code",
   "execution_count": 2,
   "metadata": {
    "execution": {
     "iopub.execute_input": "2024-12-06T21:12:30.365059Z",
     "iopub.status.busy": "2024-12-06T21:12:30.365059Z",
     "iopub.status.idle": "2024-12-06T21:12:30.396048Z",
     "shell.execute_reply": "2024-12-06T21:12:30.393850Z"
    }
   },
   "outputs": [
    {
     "data": {
      "text/plain": [
       "'Biologia'"
      ]
     },
     "execution_count": 2,
     "metadata": {},
     "output_type": "execute_result"
    }
   ],
   "source": [
    "spotforecasts.name"
   ]
  },
  {
   "cell_type": "code",
   "execution_count": 3,
   "metadata": {
    "execution": {
     "iopub.execute_input": "2024-12-06T21:12:30.468054Z",
     "iopub.status.busy": "2024-12-06T21:12:30.468054Z",
     "iopub.status.idle": "2024-12-06T21:12:30.540842Z",
     "shell.execute_reply": "2024-12-06T21:12:30.539513Z"
    }
   },
   "outputs": [
    {
     "data": {
      "text/html": [
       "<div>\n",
       "<style scoped>\n",
       "    .dataframe tbody tr th:only-of-type {\n",
       "        vertical-align: middle;\n",
       "    }\n",
       "\n",
       "    .dataframe tbody tr th {\n",
       "        vertical-align: top;\n",
       "    }\n",
       "\n",
       "    .dataframe thead th {\n",
       "        text-align: right;\n",
       "    }\n",
       "</style>\n",
       "<table border=\"1\" class=\"dataframe\">\n",
       "  <thead>\n",
       "    <tr style=\"text-align: right;\">\n",
       "      <th></th>\n",
       "      <th>timestamp_dt</th>\n",
       "      <th>timestamp_timestamp</th>\n",
       "      <th>probability</th>\n",
       "      <th>utcOffset</th>\n",
       "      <th>surf_min</th>\n",
       "      <th>surf_max</th>\n",
       "      <th>surf_optimalScore</th>\n",
       "      <th>surf_plus</th>\n",
       "      <th>surf_humanRelation</th>\n",
       "      <th>surf_raw_min</th>\n",
       "      <th>...</th>\n",
       "      <th>swells_5_directionMin</th>\n",
       "      <th>swells_5_optimalScore</th>\n",
       "      <th>speed</th>\n",
       "      <th>direction</th>\n",
       "      <th>directionType</th>\n",
       "      <th>gust</th>\n",
       "      <th>optimalScore</th>\n",
       "      <th>temperature</th>\n",
       "      <th>condition</th>\n",
       "      <th>pressure</th>\n",
       "    </tr>\n",
       "  </thead>\n",
       "  <tbody>\n",
       "    <tr>\n",
       "      <th>1</th>\n",
       "      <td>2024-12-06 06:00:00</td>\n",
       "      <td>1733464800</td>\n",
       "      <td>100.000000</td>\n",
       "      <td>-3</td>\n",
       "      <td>0.3</td>\n",
       "      <td>0.6</td>\n",
       "      <td>0</td>\n",
       "      <td>False</td>\n",
       "      <td>Knee to thigh</td>\n",
       "      <td>0.34703</td>\n",
       "      <td>...</td>\n",
       "      <td>171.385</td>\n",
       "      <td>0</td>\n",
       "      <td>9.51128</td>\n",
       "      <td>229.56949</td>\n",
       "      <td>Offshore</td>\n",
       "      <td>10.49232</td>\n",
       "      <td>0</td>\n",
       "      <td>14.53332</td>\n",
       "      <td>NIGHT_CLEAR</td>\n",
       "      <td>1005</td>\n",
       "    </tr>\n",
       "    <tr>\n",
       "      <th>3</th>\n",
       "      <td>2024-12-06 12:00:00</td>\n",
       "      <td>1733486400</td>\n",
       "      <td>100.000000</td>\n",
       "      <td>-3</td>\n",
       "      <td>0.3</td>\n",
       "      <td>0.6</td>\n",
       "      <td>0</td>\n",
       "      <td>False</td>\n",
       "      <td>Knee to thigh</td>\n",
       "      <td>0.45609</td>\n",
       "      <td>...</td>\n",
       "      <td>169.210</td>\n",
       "      <td>0</td>\n",
       "      <td>11.50255</td>\n",
       "      <td>170.56935</td>\n",
       "      <td>Cross-shore</td>\n",
       "      <td>11.50255</td>\n",
       "      <td>0</td>\n",
       "      <td>16.43639</td>\n",
       "      <td>MOSTLY_CLOUDY</td>\n",
       "      <td>1006</td>\n",
       "    </tr>\n",
       "    <tr>\n",
       "      <th>5</th>\n",
       "      <td>2024-12-06 18:00:00</td>\n",
       "      <td>1733508000</td>\n",
       "      <td>96.666667</td>\n",
       "      <td>-3</td>\n",
       "      <td>0.6</td>\n",
       "      <td>0.9</td>\n",
       "      <td>2</td>\n",
       "      <td>False</td>\n",
       "      <td>Thigh to waist</td>\n",
       "      <td>0.48584</td>\n",
       "      <td>...</td>\n",
       "      <td>165.320</td>\n",
       "      <td>0</td>\n",
       "      <td>24.89183</td>\n",
       "      <td>178.32969</td>\n",
       "      <td>Cross-shore</td>\n",
       "      <td>25.92151</td>\n",
       "      <td>0</td>\n",
       "      <td>15.85563</td>\n",
       "      <td>CLOUDY</td>\n",
       "      <td>1007</td>\n",
       "    </tr>\n",
       "  </tbody>\n",
       "</table>\n",
       "<p>3 rows × 62 columns</p>\n",
       "</div>"
      ],
      "text/plain": [
       "         timestamp_dt  timestamp_timestamp  probability  utcOffset  surf_min  \\\n",
       "1 2024-12-06 06:00:00           1733464800   100.000000         -3       0.3   \n",
       "3 2024-12-06 12:00:00           1733486400   100.000000         -3       0.3   \n",
       "5 2024-12-06 18:00:00           1733508000    96.666667         -3       0.6   \n",
       "\n",
       "   surf_max  surf_optimalScore  surf_plus surf_humanRelation  surf_raw_min  \\\n",
       "1       0.6                  0      False      Knee to thigh       0.34703   \n",
       "3       0.6                  0      False      Knee to thigh       0.45609   \n",
       "5       0.9                  2      False     Thigh to waist       0.48584   \n",
       "\n",
       "   ...  swells_5_directionMin  swells_5_optimalScore     speed  direction  \\\n",
       "1  ...                171.385                      0   9.51128  229.56949   \n",
       "3  ...                169.210                      0  11.50255  170.56935   \n",
       "5  ...                165.320                      0  24.89183  178.32969   \n",
       "\n",
       "   directionType      gust  optimalScore  temperature      condition  pressure  \n",
       "1       Offshore  10.49232             0     14.53332    NIGHT_CLEAR      1005  \n",
       "3    Cross-shore  11.50255             0     16.43639  MOSTLY_CLOUDY      1006  \n",
       "5    Cross-shore  25.92151             0     15.85563         CLOUDY      1007  \n",
       "\n",
       "[3 rows x 62 columns]"
      ]
     },
     "execution_count": 3,
     "metadata": {},
     "output_type": "execute_result"
    }
   ],
   "source": [
    "\n",
    "# Filtrar las horas 6 am, 12 pm (Noon) y 6 pm\n",
    "df_pysurfline = df_pysurfline[df_pysurfline['timestamp_dt'].dt.strftime('%H:%M').isin(['06:00', '12:00', '18:00'])]\n",
    "\n",
    "# Ver las primeras filas del DataFrame\n",
    "df_pysurfline.head()\n"
   ]
  },
  {
   "cell_type": "code",
   "execution_count": 4,
   "metadata": {
    "execution": {
     "iopub.execute_input": "2024-12-06T21:12:30.549561Z",
     "iopub.status.busy": "2024-12-06T21:12:30.540842Z",
     "iopub.status.idle": "2024-12-06T21:12:30.567993Z",
     "shell.execute_reply": "2024-12-06T21:12:30.567509Z"
    }
   },
   "outputs": [
    {
     "data": {
      "text/plain": [
       "'Biologia'"
      ]
     },
     "execution_count": 4,
     "metadata": {},
     "output_type": "execute_result"
    }
   ],
   "source": [
    "spotforecasts.name"
   ]
  },
  {
   "cell_type": "code",
   "execution_count": 5,
   "metadata": {
    "execution": {
     "iopub.execute_input": "2024-12-06T21:12:30.577894Z",
     "iopub.status.busy": "2024-12-06T21:12:30.577894Z",
     "iopub.status.idle": "2024-12-06T21:12:31.242365Z",
     "shell.execute_reply": "2024-12-06T21:12:31.240514Z"
    }
   },
   "outputs": [
    {
     "name": "stdout",
     "output_type": "stream",
     "text": [
      "El DataFrame se ha guardado correctamente en 'C:\\Users\\dalarroy\\surf-prediction-project\\data\\bio_pysurfline.xlsx'\n"
     ]
    }
   ],
   "source": [
    "\n",
    "# Definir la ruta de la carpeta 'data'\n",
    "folder_path = \"C:\\\\Users\\\\dalarroy\\\\surf-prediction-project\\\\data\"\n",
    "\n",
    "# Definir la ruta completa al archivo Excel\n",
    "file_path = os.path.join(folder_path, \"bio_pysurfline.xlsx\")\n",
    "\n",
    "# Crear la carpeta si no existe\n",
    "if not os.path.exists(folder_path):\n",
    "    os.makedirs(folder_path)\n",
    "\n",
    "# Verificar si el archivo ya existe\n",
    "if os.path.exists(file_path):\n",
    "    # Leer el archivo Excel existente\n",
    "    existing_df = pd.read_excel(file_path, engine='openpyxl')\n",
    "    \n",
    "    # Concatenar el DataFrame existente con el nuevo DataFrame (df_pysurfline)\n",
    "    df_combined = pd.concat([existing_df, df_pysurfline], ignore_index=True)\n",
    "else:\n",
    "    # Si el archivo no existe, usar solo el nuevo DataFrame\n",
    "    df_combined = df_pysurfline\n",
    "\n",
    "# Guardar el DataFrame combinado (nuevo + existente) en el archivo Excel\n",
    "df_combined.to_excel(file_path, index=False, engine='openpyxl')\n",
    "\n",
    "print(f\"El DataFrame se ha guardado correctamente en '{file_path}'\")"
   ]
  }
 ],
 "metadata": {
  "kernelspec": {
   "display_name": "surf-prediction-project-FAp9yEkR-py3.10",
   "language": "python",
   "name": "python3"
  },
  "language_info": {
   "codemirror_mode": {
    "name": "ipython",
    "version": 3
   },
   "file_extension": ".py",
   "mimetype": "text/x-python",
   "name": "python",
   "nbconvert_exporter": "python",
   "pygments_lexer": "ipython3",
   "version": "3.10.0"
  }
 },
 "nbformat": 4,
 "nbformat_minor": 2
}
