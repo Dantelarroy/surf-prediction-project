{
 "cells": [
  {
   "cell_type": "code",
   "execution_count": 1,
   "metadata": {
    "execution": {
     "iopub.execute_input": "2024-12-09T00:45:09.730291Z",
     "iopub.status.busy": "2024-12-09T00:45:09.730291Z",
     "iopub.status.idle": "2024-12-09T00:45:14.675872Z",
     "shell.execute_reply": "2024-12-09T00:45:14.673869Z"
    }
   },
   "outputs": [],
   "source": [
    "# Importaciones\n",
    "import pysurfline\n",
    "import pandas as pd\n",
    "from datetime import datetime\n",
    "import os\n",
    "\n",
    "# Definir el spotId para el cual quieres obtener las predicciones\n",
    "spotId = \"640a22924eb375a9598d21e7\"\n",
    "\n",
    "# Obtener la previsión de olas para los próximos 2 días con intervalos de 3 horas\n",
    "spotforecasts = pysurfline.get_spot_forecasts(\n",
    "    spotId,\n",
    "    days=1,\n",
    "    intervalHours=3,\n",
    ")\n",
    "\n",
    "# Convertir los resultados a un DataFrame\n",
    "df_pysurfline = spotforecasts.get_dataframe()\n",
    "\n"
   ]
  },
  {
   "cell_type": "code",
   "execution_count": 2,
   "metadata": {
    "execution": {
     "iopub.execute_input": "2024-12-09T00:45:14.680499Z",
     "iopub.status.busy": "2024-12-09T00:45:14.679498Z",
     "iopub.status.idle": "2024-12-09T00:45:14.691214Z",
     "shell.execute_reply": "2024-12-09T00:45:14.689183Z"
    }
   },
   "outputs": [
    {
     "data": {
      "text/plain": [
       "'Biologia'"
      ]
     },
     "execution_count": 2,
     "metadata": {},
     "output_type": "execute_result"
    }
   ],
   "source": [
    "spotforecasts.name"
   ]
  },
  {
   "cell_type": "code",
   "execution_count": 3,
   "metadata": {
    "execution": {
     "iopub.execute_input": "2024-12-09T00:45:14.745164Z",
     "iopub.status.busy": "2024-12-09T00:45:14.745164Z",
     "iopub.status.idle": "2024-12-09T00:45:14.793061Z",
     "shell.execute_reply": "2024-12-09T00:45:14.790557Z"
    }
   },
   "outputs": [
    {
     "data": {
      "text/html": [
       "<div>\n",
       "<style scoped>\n",
       "    .dataframe tbody tr th:only-of-type {\n",
       "        vertical-align: middle;\n",
       "    }\n",
       "\n",
       "    .dataframe tbody tr th {\n",
       "        vertical-align: top;\n",
       "    }\n",
       "\n",
       "    .dataframe thead th {\n",
       "        text-align: right;\n",
       "    }\n",
       "</style>\n",
       "<table border=\"1\" class=\"dataframe\">\n",
       "  <thead>\n",
       "    <tr style=\"text-align: right;\">\n",
       "      <th></th>\n",
       "      <th>timestamp_dt</th>\n",
       "      <th>timestamp_timestamp</th>\n",
       "      <th>probability</th>\n",
       "      <th>utcOffset</th>\n",
       "      <th>surf_min</th>\n",
       "      <th>surf_max</th>\n",
       "      <th>surf_optimalScore</th>\n",
       "      <th>surf_plus</th>\n",
       "      <th>surf_humanRelation</th>\n",
       "      <th>surf_raw_min</th>\n",
       "      <th>...</th>\n",
       "      <th>swells_5_directionMin</th>\n",
       "      <th>swells_5_optimalScore</th>\n",
       "      <th>speed</th>\n",
       "      <th>direction</th>\n",
       "      <th>directionType</th>\n",
       "      <th>gust</th>\n",
       "      <th>optimalScore</th>\n",
       "      <th>temperature</th>\n",
       "      <th>condition</th>\n",
       "      <th>pressure</th>\n",
       "    </tr>\n",
       "  </thead>\n",
       "  <tbody>\n",
       "    <tr>\n",
       "      <th>1</th>\n",
       "      <td>2024-12-08 06:00:00</td>\n",
       "      <td>1733637600</td>\n",
       "      <td>100</td>\n",
       "      <td>-3</td>\n",
       "      <td>0.6</td>\n",
       "      <td>1.1</td>\n",
       "      <td>2</td>\n",
       "      <td>False</td>\n",
       "      <td>Thigh to stomach</td>\n",
       "      <td>1.05099</td>\n",
       "      <td>...</td>\n",
       "      <td>0</td>\n",
       "      <td>0</td>\n",
       "      <td>17.54054</td>\n",
       "      <td>202.24206</td>\n",
       "      <td>Cross-shore</td>\n",
       "      <td>23.77299</td>\n",
       "      <td>0</td>\n",
       "      <td>9.52332</td>\n",
       "      <td>NIGHT_CLEAR</td>\n",
       "      <td>1019</td>\n",
       "    </tr>\n",
       "    <tr>\n",
       "      <th>3</th>\n",
       "      <td>2024-12-08 12:00:00</td>\n",
       "      <td>1733659200</td>\n",
       "      <td>100</td>\n",
       "      <td>-3</td>\n",
       "      <td>0.9</td>\n",
       "      <td>1.2</td>\n",
       "      <td>2</td>\n",
       "      <td>False</td>\n",
       "      <td>Waist to chest</td>\n",
       "      <td>0.89235</td>\n",
       "      <td>...</td>\n",
       "      <td>0</td>\n",
       "      <td>0</td>\n",
       "      <td>9.87537</td>\n",
       "      <td>192.05500</td>\n",
       "      <td>Cross-shore</td>\n",
       "      <td>12.64891</td>\n",
       "      <td>0</td>\n",
       "      <td>11.81211</td>\n",
       "      <td>CLEAR</td>\n",
       "      <td>1020</td>\n",
       "    </tr>\n",
       "    <tr>\n",
       "      <th>5</th>\n",
       "      <td>2024-12-08 18:00:00</td>\n",
       "      <td>1733680800</td>\n",
       "      <td>100</td>\n",
       "      <td>-3</td>\n",
       "      <td>0.6</td>\n",
       "      <td>1.1</td>\n",
       "      <td>2</td>\n",
       "      <td>False</td>\n",
       "      <td>Thigh to stomach</td>\n",
       "      <td>0.72380</td>\n",
       "      <td>...</td>\n",
       "      <td>0</td>\n",
       "      <td>0</td>\n",
       "      <td>18.02628</td>\n",
       "      <td>103.30355</td>\n",
       "      <td>Onshore</td>\n",
       "      <td>18.02628</td>\n",
       "      <td>0</td>\n",
       "      <td>13.34072</td>\n",
       "      <td>CLEAR</td>\n",
       "      <td>1019</td>\n",
       "    </tr>\n",
       "  </tbody>\n",
       "</table>\n",
       "<p>3 rows × 62 columns</p>\n",
       "</div>"
      ],
      "text/plain": [
       "         timestamp_dt  timestamp_timestamp  probability  utcOffset  surf_min  \\\n",
       "1 2024-12-08 06:00:00           1733637600          100         -3       0.6   \n",
       "3 2024-12-08 12:00:00           1733659200          100         -3       0.9   \n",
       "5 2024-12-08 18:00:00           1733680800          100         -3       0.6   \n",
       "\n",
       "   surf_max  surf_optimalScore  surf_plus surf_humanRelation  surf_raw_min  \\\n",
       "1       1.1                  2      False   Thigh to stomach       1.05099   \n",
       "3       1.2                  2      False     Waist to chest       0.89235   \n",
       "5       1.1                  2      False   Thigh to stomach       0.72380   \n",
       "\n",
       "   ...  swells_5_directionMin  swells_5_optimalScore     speed  direction  \\\n",
       "1  ...                      0                      0  17.54054  202.24206   \n",
       "3  ...                      0                      0   9.87537  192.05500   \n",
       "5  ...                      0                      0  18.02628  103.30355   \n",
       "\n",
       "   directionType      gust  optimalScore  temperature    condition  pressure  \n",
       "1    Cross-shore  23.77299             0      9.52332  NIGHT_CLEAR      1019  \n",
       "3    Cross-shore  12.64891             0     11.81211        CLEAR      1020  \n",
       "5        Onshore  18.02628             0     13.34072        CLEAR      1019  \n",
       "\n",
       "[3 rows x 62 columns]"
      ]
     },
     "execution_count": 3,
     "metadata": {},
     "output_type": "execute_result"
    }
   ],
   "source": [
    "\n",
    "# Filtrar las horas 6 am, 12 pm (Noon) y 6 pm\n",
    "df_pysurfline = df_pysurfline[df_pysurfline['timestamp_dt'].dt.strftime('%H:%M').isin(['06:00', '12:00', '18:00'])]\n",
    "\n",
    "# Ver las primeras filas del DataFrame\n",
    "df_pysurfline.head()\n"
   ]
  },
  {
   "cell_type": "code",
   "execution_count": 4,
   "metadata": {
    "execution": {
     "iopub.execute_input": "2024-12-09T00:45:14.795093Z",
     "iopub.status.busy": "2024-12-09T00:45:14.795093Z",
     "iopub.status.idle": "2024-12-09T00:45:14.809646Z",
     "shell.execute_reply": "2024-12-09T00:45:14.807245Z"
    }
   },
   "outputs": [
    {
     "data": {
      "text/plain": [
       "'Biologia'"
      ]
     },
     "execution_count": 4,
     "metadata": {},
     "output_type": "execute_result"
    }
   ],
   "source": [
    "spotforecasts.name"
   ]
  },
  {
   "cell_type": "code",
   "execution_count": 5,
   "metadata": {
    "execution": {
     "iopub.execute_input": "2024-12-09T00:45:14.811444Z",
     "iopub.status.busy": "2024-12-09T00:45:14.811444Z",
     "iopub.status.idle": "2024-12-09T00:45:15.328269Z",
     "shell.execute_reply": "2024-12-09T00:45:15.326772Z"
    }
   },
   "outputs": [
    {
     "name": "stdout",
     "output_type": "stream",
     "text": [
      "El DataFrame se ha guardado correctamente en 'C:\\Users\\dalarroy\\surf-prediction-project\\data\\bio_pysurfline.xlsx'\n"
     ]
    }
   ],
   "source": [
    "\n",
    "# Definir la ruta de la carpeta 'data'\n",
    "folder_path = \"C:\\\\Users\\\\dalarroy\\\\surf-prediction-project\\\\data\"\n",
    "\n",
    "# Definir la ruta completa al archivo Excel\n",
    "file_path = os.path.join(folder_path, \"bio_pysurfline.xlsx\")\n",
    "\n",
    "# Crear la carpeta si no existe\n",
    "if not os.path.exists(folder_path):\n",
    "    os.makedirs(folder_path)\n",
    "\n",
    "# Verificar si el archivo ya existe\n",
    "if os.path.exists(file_path):\n",
    "    # Leer el archivo Excel existente\n",
    "    existing_df = pd.read_excel(file_path, engine='openpyxl')\n",
    "    \n",
    "    # Concatenar el DataFrame existente con el nuevo DataFrame (df_pysurfline)\n",
    "    df_combined = pd.concat([existing_df, df_pysurfline], ignore_index=True)\n",
    "else:\n",
    "    # Si el archivo no existe, usar solo el nuevo DataFrame\n",
    "    df_combined = df_pysurfline\n",
    "\n",
    "# Guardar el DataFrame combinado (nuevo + existente) en el archivo Excel\n",
    "df_combined.to_excel(file_path, index=False, engine='openpyxl')\n",
    "\n",
    "print(f\"El DataFrame se ha guardado correctamente en '{file_path}'\")"
   ]
  }
 ],
 "metadata": {
  "kernelspec": {
   "display_name": "surf-prediction-project-FAp9yEkR-py3.10",
   "language": "python",
   "name": "python3"
  },
  "language_info": {
   "codemirror_mode": {
    "name": "ipython",
    "version": 3
   },
   "file_extension": ".py",
   "mimetype": "text/x-python",
   "name": "python",
   "nbconvert_exporter": "python",
   "pygments_lexer": "ipython3",
   "version": "3.10.0"
  }
 },
 "nbformat": 4,
 "nbformat_minor": 2
}
